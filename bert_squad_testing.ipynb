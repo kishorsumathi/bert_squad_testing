{
  "nbformat": 4,
  "nbformat_minor": 0,
  "metadata": {
    "colab": {
      "provenance": []
    },
    "kernelspec": {
      "name": "python3",
      "display_name": "Python 3"
    },
    "language_info": {
      "name": "python"
    },
    "widgets": {
      "application/vnd.jupyter.widget-state+json": {
        "11834e8d20be4832bb9bb67d6a4c1c57": {
          "model_module": "@jupyter-widgets/controls",
          "model_name": "HBoxModel",
          "model_module_version": "1.5.0",
          "state": {
            "_dom_classes": [],
            "_model_module": "@jupyter-widgets/controls",
            "_model_module_version": "1.5.0",
            "_model_name": "HBoxModel",
            "_view_count": null,
            "_view_module": "@jupyter-widgets/controls",
            "_view_module_version": "1.5.0",
            "_view_name": "HBoxView",
            "box_style": "",
            "children": [
              "IPY_MODEL_be7febd4bb6144bd964b66ba6ae5c3af",
              "IPY_MODEL_35825634885e4058b566554e44b631b6",
              "IPY_MODEL_795d7a76ed9c4092b629de2ea1692954"
            ],
            "layout": "IPY_MODEL_4cdbb98deed14ef5b1c4d11f824b9d0e"
          }
        },
        "be7febd4bb6144bd964b66ba6ae5c3af": {
          "model_module": "@jupyter-widgets/controls",
          "model_name": "HTMLModel",
          "model_module_version": "1.5.0",
          "state": {
            "_dom_classes": [],
            "_model_module": "@jupyter-widgets/controls",
            "_model_module_version": "1.5.0",
            "_model_name": "HTMLModel",
            "_view_count": null,
            "_view_module": "@jupyter-widgets/controls",
            "_view_module_version": "1.5.0",
            "_view_name": "HTMLView",
            "description": "",
            "description_tooltip": null,
            "layout": "IPY_MODEL_cd93113937c343d58afd611589f1f26a",
            "placeholder": "​",
            "style": "IPY_MODEL_33fa3e9e43f44cc5940c81e78407dbf0",
            "value": "Downloading: 100%"
          }
        },
        "35825634885e4058b566554e44b631b6": {
          "model_module": "@jupyter-widgets/controls",
          "model_name": "FloatProgressModel",
          "model_module_version": "1.5.0",
          "state": {
            "_dom_classes": [],
            "_model_module": "@jupyter-widgets/controls",
            "_model_module_version": "1.5.0",
            "_model_name": "FloatProgressModel",
            "_view_count": null,
            "_view_module": "@jupyter-widgets/controls",
            "_view_module_version": "1.5.0",
            "_view_name": "ProgressView",
            "bar_style": "success",
            "description": "",
            "description_tooltip": null,
            "layout": "IPY_MODEL_d067f5ce18f046e6871dcb8f794f4242",
            "max": 28,
            "min": 0,
            "orientation": "horizontal",
            "style": "IPY_MODEL_abd33e6ba18747af8b37bb639b8a1e80",
            "value": 28
          }
        },
        "795d7a76ed9c4092b629de2ea1692954": {
          "model_module": "@jupyter-widgets/controls",
          "model_name": "HTMLModel",
          "model_module_version": "1.5.0",
          "state": {
            "_dom_classes": [],
            "_model_module": "@jupyter-widgets/controls",
            "_model_module_version": "1.5.0",
            "_model_name": "HTMLModel",
            "_view_count": null,
            "_view_module": "@jupyter-widgets/controls",
            "_view_module_version": "1.5.0",
            "_view_name": "HTMLView",
            "description": "",
            "description_tooltip": null,
            "layout": "IPY_MODEL_abc38ed8dddf4107aadfe770f151faca",
            "placeholder": "​",
            "style": "IPY_MODEL_2db8b302aca041b58d2adde1d9516176",
            "value": " 28.0/28.0 [00:00&lt;00:00, 1.36kB/s]"
          }
        },
        "4cdbb98deed14ef5b1c4d11f824b9d0e": {
          "model_module": "@jupyter-widgets/base",
          "model_name": "LayoutModel",
          "model_module_version": "1.2.0",
          "state": {
            "_model_module": "@jupyter-widgets/base",
            "_model_module_version": "1.2.0",
            "_model_name": "LayoutModel",
            "_view_count": null,
            "_view_module": "@jupyter-widgets/base",
            "_view_module_version": "1.2.0",
            "_view_name": "LayoutView",
            "align_content": null,
            "align_items": null,
            "align_self": null,
            "border": null,
            "bottom": null,
            "display": null,
            "flex": null,
            "flex_flow": null,
            "grid_area": null,
            "grid_auto_columns": null,
            "grid_auto_flow": null,
            "grid_auto_rows": null,
            "grid_column": null,
            "grid_gap": null,
            "grid_row": null,
            "grid_template_areas": null,
            "grid_template_columns": null,
            "grid_template_rows": null,
            "height": null,
            "justify_content": null,
            "justify_items": null,
            "left": null,
            "margin": null,
            "max_height": null,
            "max_width": null,
            "min_height": null,
            "min_width": null,
            "object_fit": null,
            "object_position": null,
            "order": null,
            "overflow": null,
            "overflow_x": null,
            "overflow_y": null,
            "padding": null,
            "right": null,
            "top": null,
            "visibility": null,
            "width": null
          }
        },
        "cd93113937c343d58afd611589f1f26a": {
          "model_module": "@jupyter-widgets/base",
          "model_name": "LayoutModel",
          "model_module_version": "1.2.0",
          "state": {
            "_model_module": "@jupyter-widgets/base",
            "_model_module_version": "1.2.0",
            "_model_name": "LayoutModel",
            "_view_count": null,
            "_view_module": "@jupyter-widgets/base",
            "_view_module_version": "1.2.0",
            "_view_name": "LayoutView",
            "align_content": null,
            "align_items": null,
            "align_self": null,
            "border": null,
            "bottom": null,
            "display": null,
            "flex": null,
            "flex_flow": null,
            "grid_area": null,
            "grid_auto_columns": null,
            "grid_auto_flow": null,
            "grid_auto_rows": null,
            "grid_column": null,
            "grid_gap": null,
            "grid_row": null,
            "grid_template_areas": null,
            "grid_template_columns": null,
            "grid_template_rows": null,
            "height": null,
            "justify_content": null,
            "justify_items": null,
            "left": null,
            "margin": null,
            "max_height": null,
            "max_width": null,
            "min_height": null,
            "min_width": null,
            "object_fit": null,
            "object_position": null,
            "order": null,
            "overflow": null,
            "overflow_x": null,
            "overflow_y": null,
            "padding": null,
            "right": null,
            "top": null,
            "visibility": null,
            "width": null
          }
        },
        "33fa3e9e43f44cc5940c81e78407dbf0": {
          "model_module": "@jupyter-widgets/controls",
          "model_name": "DescriptionStyleModel",
          "model_module_version": "1.5.0",
          "state": {
            "_model_module": "@jupyter-widgets/controls",
            "_model_module_version": "1.5.0",
            "_model_name": "DescriptionStyleModel",
            "_view_count": null,
            "_view_module": "@jupyter-widgets/base",
            "_view_module_version": "1.2.0",
            "_view_name": "StyleView",
            "description_width": ""
          }
        },
        "d067f5ce18f046e6871dcb8f794f4242": {
          "model_module": "@jupyter-widgets/base",
          "model_name": "LayoutModel",
          "model_module_version": "1.2.0",
          "state": {
            "_model_module": "@jupyter-widgets/base",
            "_model_module_version": "1.2.0",
            "_model_name": "LayoutModel",
            "_view_count": null,
            "_view_module": "@jupyter-widgets/base",
            "_view_module_version": "1.2.0",
            "_view_name": "LayoutView",
            "align_content": null,
            "align_items": null,
            "align_self": null,
            "border": null,
            "bottom": null,
            "display": null,
            "flex": null,
            "flex_flow": null,
            "grid_area": null,
            "grid_auto_columns": null,
            "grid_auto_flow": null,
            "grid_auto_rows": null,
            "grid_column": null,
            "grid_gap": null,
            "grid_row": null,
            "grid_template_areas": null,
            "grid_template_columns": null,
            "grid_template_rows": null,
            "height": null,
            "justify_content": null,
            "justify_items": null,
            "left": null,
            "margin": null,
            "max_height": null,
            "max_width": null,
            "min_height": null,
            "min_width": null,
            "object_fit": null,
            "object_position": null,
            "order": null,
            "overflow": null,
            "overflow_x": null,
            "overflow_y": null,
            "padding": null,
            "right": null,
            "top": null,
            "visibility": null,
            "width": null
          }
        },
        "abd33e6ba18747af8b37bb639b8a1e80": {
          "model_module": "@jupyter-widgets/controls",
          "model_name": "ProgressStyleModel",
          "model_module_version": "1.5.0",
          "state": {
            "_model_module": "@jupyter-widgets/controls",
            "_model_module_version": "1.5.0",
            "_model_name": "ProgressStyleModel",
            "_view_count": null,
            "_view_module": "@jupyter-widgets/base",
            "_view_module_version": "1.2.0",
            "_view_name": "StyleView",
            "bar_color": null,
            "description_width": ""
          }
        },
        "abc38ed8dddf4107aadfe770f151faca": {
          "model_module": "@jupyter-widgets/base",
          "model_name": "LayoutModel",
          "model_module_version": "1.2.0",
          "state": {
            "_model_module": "@jupyter-widgets/base",
            "_model_module_version": "1.2.0",
            "_model_name": "LayoutModel",
            "_view_count": null,
            "_view_module": "@jupyter-widgets/base",
            "_view_module_version": "1.2.0",
            "_view_name": "LayoutView",
            "align_content": null,
            "align_items": null,
            "align_self": null,
            "border": null,
            "bottom": null,
            "display": null,
            "flex": null,
            "flex_flow": null,
            "grid_area": null,
            "grid_auto_columns": null,
            "grid_auto_flow": null,
            "grid_auto_rows": null,
            "grid_column": null,
            "grid_gap": null,
            "grid_row": null,
            "grid_template_areas": null,
            "grid_template_columns": null,
            "grid_template_rows": null,
            "height": null,
            "justify_content": null,
            "justify_items": null,
            "left": null,
            "margin": null,
            "max_height": null,
            "max_width": null,
            "min_height": null,
            "min_width": null,
            "object_fit": null,
            "object_position": null,
            "order": null,
            "overflow": null,
            "overflow_x": null,
            "overflow_y": null,
            "padding": null,
            "right": null,
            "top": null,
            "visibility": null,
            "width": null
          }
        },
        "2db8b302aca041b58d2adde1d9516176": {
          "model_module": "@jupyter-widgets/controls",
          "model_name": "DescriptionStyleModel",
          "model_module_version": "1.5.0",
          "state": {
            "_model_module": "@jupyter-widgets/controls",
            "_model_module_version": "1.5.0",
            "_model_name": "DescriptionStyleModel",
            "_view_count": null,
            "_view_module": "@jupyter-widgets/base",
            "_view_module_version": "1.2.0",
            "_view_name": "StyleView",
            "description_width": ""
          }
        },
        "6000923ed45548f3b5ca8bd161f4df7b": {
          "model_module": "@jupyter-widgets/controls",
          "model_name": "HBoxModel",
          "model_module_version": "1.5.0",
          "state": {
            "_dom_classes": [],
            "_model_module": "@jupyter-widgets/controls",
            "_model_module_version": "1.5.0",
            "_model_name": "HBoxModel",
            "_view_count": null,
            "_view_module": "@jupyter-widgets/controls",
            "_view_module_version": "1.5.0",
            "_view_name": "HBoxView",
            "box_style": "",
            "children": [
              "IPY_MODEL_de82e205c0b746828ab21921dc829411",
              "IPY_MODEL_c075b6b86a8c4a7084235091eaf47db9",
              "IPY_MODEL_b4d56863126e44889e313e1aa6f8eccc"
            ],
            "layout": "IPY_MODEL_1224fce2314b44f1b5646160791870dc"
          }
        },
        "de82e205c0b746828ab21921dc829411": {
          "model_module": "@jupyter-widgets/controls",
          "model_name": "HTMLModel",
          "model_module_version": "1.5.0",
          "state": {
            "_dom_classes": [],
            "_model_module": "@jupyter-widgets/controls",
            "_model_module_version": "1.5.0",
            "_model_name": "HTMLModel",
            "_view_count": null,
            "_view_module": "@jupyter-widgets/controls",
            "_view_module_version": "1.5.0",
            "_view_name": "HTMLView",
            "description": "",
            "description_tooltip": null,
            "layout": "IPY_MODEL_2b9174a9a087496889118dba7c03e98b",
            "placeholder": "​",
            "style": "IPY_MODEL_88539bbb79a74818b27c079729d3a009",
            "value": "Downloading: 100%"
          }
        },
        "c075b6b86a8c4a7084235091eaf47db9": {
          "model_module": "@jupyter-widgets/controls",
          "model_name": "FloatProgressModel",
          "model_module_version": "1.5.0",
          "state": {
            "_dom_classes": [],
            "_model_module": "@jupyter-widgets/controls",
            "_model_module_version": "1.5.0",
            "_model_name": "FloatProgressModel",
            "_view_count": null,
            "_view_module": "@jupyter-widgets/controls",
            "_view_module_version": "1.5.0",
            "_view_name": "ProgressView",
            "bar_style": "success",
            "description": "",
            "description_tooltip": null,
            "layout": "IPY_MODEL_a5410514610b4a118051b8db62e86645",
            "max": 443,
            "min": 0,
            "orientation": "horizontal",
            "style": "IPY_MODEL_c78866489e5d4497bd015b9541df2989",
            "value": 443
          }
        },
        "b4d56863126e44889e313e1aa6f8eccc": {
          "model_module": "@jupyter-widgets/controls",
          "model_name": "HTMLModel",
          "model_module_version": "1.5.0",
          "state": {
            "_dom_classes": [],
            "_model_module": "@jupyter-widgets/controls",
            "_model_module_version": "1.5.0",
            "_model_name": "HTMLModel",
            "_view_count": null,
            "_view_module": "@jupyter-widgets/controls",
            "_view_module_version": "1.5.0",
            "_view_name": "HTMLView",
            "description": "",
            "description_tooltip": null,
            "layout": "IPY_MODEL_abb4c65ebcbd43d58029dcc5a6519bc0",
            "placeholder": "​",
            "style": "IPY_MODEL_e8d40c1097f64a078b62360a14ef5457",
            "value": " 443/443 [00:00&lt;00:00, 24.3kB/s]"
          }
        },
        "1224fce2314b44f1b5646160791870dc": {
          "model_module": "@jupyter-widgets/base",
          "model_name": "LayoutModel",
          "model_module_version": "1.2.0",
          "state": {
            "_model_module": "@jupyter-widgets/base",
            "_model_module_version": "1.2.0",
            "_model_name": "LayoutModel",
            "_view_count": null,
            "_view_module": "@jupyter-widgets/base",
            "_view_module_version": "1.2.0",
            "_view_name": "LayoutView",
            "align_content": null,
            "align_items": null,
            "align_self": null,
            "border": null,
            "bottom": null,
            "display": null,
            "flex": null,
            "flex_flow": null,
            "grid_area": null,
            "grid_auto_columns": null,
            "grid_auto_flow": null,
            "grid_auto_rows": null,
            "grid_column": null,
            "grid_gap": null,
            "grid_row": null,
            "grid_template_areas": null,
            "grid_template_columns": null,
            "grid_template_rows": null,
            "height": null,
            "justify_content": null,
            "justify_items": null,
            "left": null,
            "margin": null,
            "max_height": null,
            "max_width": null,
            "min_height": null,
            "min_width": null,
            "object_fit": null,
            "object_position": null,
            "order": null,
            "overflow": null,
            "overflow_x": null,
            "overflow_y": null,
            "padding": null,
            "right": null,
            "top": null,
            "visibility": null,
            "width": null
          }
        },
        "2b9174a9a087496889118dba7c03e98b": {
          "model_module": "@jupyter-widgets/base",
          "model_name": "LayoutModel",
          "model_module_version": "1.2.0",
          "state": {
            "_model_module": "@jupyter-widgets/base",
            "_model_module_version": "1.2.0",
            "_model_name": "LayoutModel",
            "_view_count": null,
            "_view_module": "@jupyter-widgets/base",
            "_view_module_version": "1.2.0",
            "_view_name": "LayoutView",
            "align_content": null,
            "align_items": null,
            "align_self": null,
            "border": null,
            "bottom": null,
            "display": null,
            "flex": null,
            "flex_flow": null,
            "grid_area": null,
            "grid_auto_columns": null,
            "grid_auto_flow": null,
            "grid_auto_rows": null,
            "grid_column": null,
            "grid_gap": null,
            "grid_row": null,
            "grid_template_areas": null,
            "grid_template_columns": null,
            "grid_template_rows": null,
            "height": null,
            "justify_content": null,
            "justify_items": null,
            "left": null,
            "margin": null,
            "max_height": null,
            "max_width": null,
            "min_height": null,
            "min_width": null,
            "object_fit": null,
            "object_position": null,
            "order": null,
            "overflow": null,
            "overflow_x": null,
            "overflow_y": null,
            "padding": null,
            "right": null,
            "top": null,
            "visibility": null,
            "width": null
          }
        },
        "88539bbb79a74818b27c079729d3a009": {
          "model_module": "@jupyter-widgets/controls",
          "model_name": "DescriptionStyleModel",
          "model_module_version": "1.5.0",
          "state": {
            "_model_module": "@jupyter-widgets/controls",
            "_model_module_version": "1.5.0",
            "_model_name": "DescriptionStyleModel",
            "_view_count": null,
            "_view_module": "@jupyter-widgets/base",
            "_view_module_version": "1.2.0",
            "_view_name": "StyleView",
            "description_width": ""
          }
        },
        "a5410514610b4a118051b8db62e86645": {
          "model_module": "@jupyter-widgets/base",
          "model_name": "LayoutModel",
          "model_module_version": "1.2.0",
          "state": {
            "_model_module": "@jupyter-widgets/base",
            "_model_module_version": "1.2.0",
            "_model_name": "LayoutModel",
            "_view_count": null,
            "_view_module": "@jupyter-widgets/base",
            "_view_module_version": "1.2.0",
            "_view_name": "LayoutView",
            "align_content": null,
            "align_items": null,
            "align_self": null,
            "border": null,
            "bottom": null,
            "display": null,
            "flex": null,
            "flex_flow": null,
            "grid_area": null,
            "grid_auto_columns": null,
            "grid_auto_flow": null,
            "grid_auto_rows": null,
            "grid_column": null,
            "grid_gap": null,
            "grid_row": null,
            "grid_template_areas": null,
            "grid_template_columns": null,
            "grid_template_rows": null,
            "height": null,
            "justify_content": null,
            "justify_items": null,
            "left": null,
            "margin": null,
            "max_height": null,
            "max_width": null,
            "min_height": null,
            "min_width": null,
            "object_fit": null,
            "object_position": null,
            "order": null,
            "overflow": null,
            "overflow_x": null,
            "overflow_y": null,
            "padding": null,
            "right": null,
            "top": null,
            "visibility": null,
            "width": null
          }
        },
        "c78866489e5d4497bd015b9541df2989": {
          "model_module": "@jupyter-widgets/controls",
          "model_name": "ProgressStyleModel",
          "model_module_version": "1.5.0",
          "state": {
            "_model_module": "@jupyter-widgets/controls",
            "_model_module_version": "1.5.0",
            "_model_name": "ProgressStyleModel",
            "_view_count": null,
            "_view_module": "@jupyter-widgets/base",
            "_view_module_version": "1.2.0",
            "_view_name": "StyleView",
            "bar_color": null,
            "description_width": ""
          }
        },
        "abb4c65ebcbd43d58029dcc5a6519bc0": {
          "model_module": "@jupyter-widgets/base",
          "model_name": "LayoutModel",
          "model_module_version": "1.2.0",
          "state": {
            "_model_module": "@jupyter-widgets/base",
            "_model_module_version": "1.2.0",
            "_model_name": "LayoutModel",
            "_view_count": null,
            "_view_module": "@jupyter-widgets/base",
            "_view_module_version": "1.2.0",
            "_view_name": "LayoutView",
            "align_content": null,
            "align_items": null,
            "align_self": null,
            "border": null,
            "bottom": null,
            "display": null,
            "flex": null,
            "flex_flow": null,
            "grid_area": null,
            "grid_auto_columns": null,
            "grid_auto_flow": null,
            "grid_auto_rows": null,
            "grid_column": null,
            "grid_gap": null,
            "grid_row": null,
            "grid_template_areas": null,
            "grid_template_columns": null,
            "grid_template_rows": null,
            "height": null,
            "justify_content": null,
            "justify_items": null,
            "left": null,
            "margin": null,
            "max_height": null,
            "max_width": null,
            "min_height": null,
            "min_width": null,
            "object_fit": null,
            "object_position": null,
            "order": null,
            "overflow": null,
            "overflow_x": null,
            "overflow_y": null,
            "padding": null,
            "right": null,
            "top": null,
            "visibility": null,
            "width": null
          }
        },
        "e8d40c1097f64a078b62360a14ef5457": {
          "model_module": "@jupyter-widgets/controls",
          "model_name": "DescriptionStyleModel",
          "model_module_version": "1.5.0",
          "state": {
            "_model_module": "@jupyter-widgets/controls",
            "_model_module_version": "1.5.0",
            "_model_name": "DescriptionStyleModel",
            "_view_count": null,
            "_view_module": "@jupyter-widgets/base",
            "_view_module_version": "1.2.0",
            "_view_name": "StyleView",
            "description_width": ""
          }
        },
        "bf55b8055b4d4d82a7b417360fe7b517": {
          "model_module": "@jupyter-widgets/controls",
          "model_name": "HBoxModel",
          "model_module_version": "1.5.0",
          "state": {
            "_dom_classes": [],
            "_model_module": "@jupyter-widgets/controls",
            "_model_module_version": "1.5.0",
            "_model_name": "HBoxModel",
            "_view_count": null,
            "_view_module": "@jupyter-widgets/controls",
            "_view_module_version": "1.5.0",
            "_view_name": "HBoxView",
            "box_style": "",
            "children": [
              "IPY_MODEL_03870fe10566414e89e79a026b365bab",
              "IPY_MODEL_57f18fdceb06488197f8aea18cca888d",
              "IPY_MODEL_714e7cd54b424815835f738d6546fc37"
            ],
            "layout": "IPY_MODEL_9b1f9b6a57d64a2cb0c185a5a9fe3158"
          }
        },
        "03870fe10566414e89e79a026b365bab": {
          "model_module": "@jupyter-widgets/controls",
          "model_name": "HTMLModel",
          "model_module_version": "1.5.0",
          "state": {
            "_dom_classes": [],
            "_model_module": "@jupyter-widgets/controls",
            "_model_module_version": "1.5.0",
            "_model_name": "HTMLModel",
            "_view_count": null,
            "_view_module": "@jupyter-widgets/controls",
            "_view_module_version": "1.5.0",
            "_view_name": "HTMLView",
            "description": "",
            "description_tooltip": null,
            "layout": "IPY_MODEL_188fb7c0b78649aea9a9af104b8e2ae5",
            "placeholder": "​",
            "style": "IPY_MODEL_ced17f8123e743d088b433fe5f61068d",
            "value": "Downloading: 100%"
          }
        },
        "57f18fdceb06488197f8aea18cca888d": {
          "model_module": "@jupyter-widgets/controls",
          "model_name": "FloatProgressModel",
          "model_module_version": "1.5.0",
          "state": {
            "_dom_classes": [],
            "_model_module": "@jupyter-widgets/controls",
            "_model_module_version": "1.5.0",
            "_model_name": "FloatProgressModel",
            "_view_count": null,
            "_view_module": "@jupyter-widgets/controls",
            "_view_module_version": "1.5.0",
            "_view_name": "ProgressView",
            "bar_style": "success",
            "description": "",
            "description_tooltip": null,
            "layout": "IPY_MODEL_cb559872973144e3a6637d67941fc803",
            "max": 231508,
            "min": 0,
            "orientation": "horizontal",
            "style": "IPY_MODEL_f06a17a3e11e4f16a31d5836986b8ac1",
            "value": 231508
          }
        },
        "714e7cd54b424815835f738d6546fc37": {
          "model_module": "@jupyter-widgets/controls",
          "model_name": "HTMLModel",
          "model_module_version": "1.5.0",
          "state": {
            "_dom_classes": [],
            "_model_module": "@jupyter-widgets/controls",
            "_model_module_version": "1.5.0",
            "_model_name": "HTMLModel",
            "_view_count": null,
            "_view_module": "@jupyter-widgets/controls",
            "_view_module_version": "1.5.0",
            "_view_name": "HTMLView",
            "description": "",
            "description_tooltip": null,
            "layout": "IPY_MODEL_e84c462d989f4c5695a528ab44c01ca4",
            "placeholder": "​",
            "style": "IPY_MODEL_07f89142c0ff4378afb3f3b831627602",
            "value": " 232k/232k [00:00&lt;00:00, 8.12MB/s]"
          }
        },
        "9b1f9b6a57d64a2cb0c185a5a9fe3158": {
          "model_module": "@jupyter-widgets/base",
          "model_name": "LayoutModel",
          "model_module_version": "1.2.0",
          "state": {
            "_model_module": "@jupyter-widgets/base",
            "_model_module_version": "1.2.0",
            "_model_name": "LayoutModel",
            "_view_count": null,
            "_view_module": "@jupyter-widgets/base",
            "_view_module_version": "1.2.0",
            "_view_name": "LayoutView",
            "align_content": null,
            "align_items": null,
            "align_self": null,
            "border": null,
            "bottom": null,
            "display": null,
            "flex": null,
            "flex_flow": null,
            "grid_area": null,
            "grid_auto_columns": null,
            "grid_auto_flow": null,
            "grid_auto_rows": null,
            "grid_column": null,
            "grid_gap": null,
            "grid_row": null,
            "grid_template_areas": null,
            "grid_template_columns": null,
            "grid_template_rows": null,
            "height": null,
            "justify_content": null,
            "justify_items": null,
            "left": null,
            "margin": null,
            "max_height": null,
            "max_width": null,
            "min_height": null,
            "min_width": null,
            "object_fit": null,
            "object_position": null,
            "order": null,
            "overflow": null,
            "overflow_x": null,
            "overflow_y": null,
            "padding": null,
            "right": null,
            "top": null,
            "visibility": null,
            "width": null
          }
        },
        "188fb7c0b78649aea9a9af104b8e2ae5": {
          "model_module": "@jupyter-widgets/base",
          "model_name": "LayoutModel",
          "model_module_version": "1.2.0",
          "state": {
            "_model_module": "@jupyter-widgets/base",
            "_model_module_version": "1.2.0",
            "_model_name": "LayoutModel",
            "_view_count": null,
            "_view_module": "@jupyter-widgets/base",
            "_view_module_version": "1.2.0",
            "_view_name": "LayoutView",
            "align_content": null,
            "align_items": null,
            "align_self": null,
            "border": null,
            "bottom": null,
            "display": null,
            "flex": null,
            "flex_flow": null,
            "grid_area": null,
            "grid_auto_columns": null,
            "grid_auto_flow": null,
            "grid_auto_rows": null,
            "grid_column": null,
            "grid_gap": null,
            "grid_row": null,
            "grid_template_areas": null,
            "grid_template_columns": null,
            "grid_template_rows": null,
            "height": null,
            "justify_content": null,
            "justify_items": null,
            "left": null,
            "margin": null,
            "max_height": null,
            "max_width": null,
            "min_height": null,
            "min_width": null,
            "object_fit": null,
            "object_position": null,
            "order": null,
            "overflow": null,
            "overflow_x": null,
            "overflow_y": null,
            "padding": null,
            "right": null,
            "top": null,
            "visibility": null,
            "width": null
          }
        },
        "ced17f8123e743d088b433fe5f61068d": {
          "model_module": "@jupyter-widgets/controls",
          "model_name": "DescriptionStyleModel",
          "model_module_version": "1.5.0",
          "state": {
            "_model_module": "@jupyter-widgets/controls",
            "_model_module_version": "1.5.0",
            "_model_name": "DescriptionStyleModel",
            "_view_count": null,
            "_view_module": "@jupyter-widgets/base",
            "_view_module_version": "1.2.0",
            "_view_name": "StyleView",
            "description_width": ""
          }
        },
        "cb559872973144e3a6637d67941fc803": {
          "model_module": "@jupyter-widgets/base",
          "model_name": "LayoutModel",
          "model_module_version": "1.2.0",
          "state": {
            "_model_module": "@jupyter-widgets/base",
            "_model_module_version": "1.2.0",
            "_model_name": "LayoutModel",
            "_view_count": null,
            "_view_module": "@jupyter-widgets/base",
            "_view_module_version": "1.2.0",
            "_view_name": "LayoutView",
            "align_content": null,
            "align_items": null,
            "align_self": null,
            "border": null,
            "bottom": null,
            "display": null,
            "flex": null,
            "flex_flow": null,
            "grid_area": null,
            "grid_auto_columns": null,
            "grid_auto_flow": null,
            "grid_auto_rows": null,
            "grid_column": null,
            "grid_gap": null,
            "grid_row": null,
            "grid_template_areas": null,
            "grid_template_columns": null,
            "grid_template_rows": null,
            "height": null,
            "justify_content": null,
            "justify_items": null,
            "left": null,
            "margin": null,
            "max_height": null,
            "max_width": null,
            "min_height": null,
            "min_width": null,
            "object_fit": null,
            "object_position": null,
            "order": null,
            "overflow": null,
            "overflow_x": null,
            "overflow_y": null,
            "padding": null,
            "right": null,
            "top": null,
            "visibility": null,
            "width": null
          }
        },
        "f06a17a3e11e4f16a31d5836986b8ac1": {
          "model_module": "@jupyter-widgets/controls",
          "model_name": "ProgressStyleModel",
          "model_module_version": "1.5.0",
          "state": {
            "_model_module": "@jupyter-widgets/controls",
            "_model_module_version": "1.5.0",
            "_model_name": "ProgressStyleModel",
            "_view_count": null,
            "_view_module": "@jupyter-widgets/base",
            "_view_module_version": "1.2.0",
            "_view_name": "StyleView",
            "bar_color": null,
            "description_width": ""
          }
        },
        "e84c462d989f4c5695a528ab44c01ca4": {
          "model_module": "@jupyter-widgets/base",
          "model_name": "LayoutModel",
          "model_module_version": "1.2.0",
          "state": {
            "_model_module": "@jupyter-widgets/base",
            "_model_module_version": "1.2.0",
            "_model_name": "LayoutModel",
            "_view_count": null,
            "_view_module": "@jupyter-widgets/base",
            "_view_module_version": "1.2.0",
            "_view_name": "LayoutView",
            "align_content": null,
            "align_items": null,
            "align_self": null,
            "border": null,
            "bottom": null,
            "display": null,
            "flex": null,
            "flex_flow": null,
            "grid_area": null,
            "grid_auto_columns": null,
            "grid_auto_flow": null,
            "grid_auto_rows": null,
            "grid_column": null,
            "grid_gap": null,
            "grid_row": null,
            "grid_template_areas": null,
            "grid_template_columns": null,
            "grid_template_rows": null,
            "height": null,
            "justify_content": null,
            "justify_items": null,
            "left": null,
            "margin": null,
            "max_height": null,
            "max_width": null,
            "min_height": null,
            "min_width": null,
            "object_fit": null,
            "object_position": null,
            "order": null,
            "overflow": null,
            "overflow_x": null,
            "overflow_y": null,
            "padding": null,
            "right": null,
            "top": null,
            "visibility": null,
            "width": null
          }
        },
        "07f89142c0ff4378afb3f3b831627602": {
          "model_module": "@jupyter-widgets/controls",
          "model_name": "DescriptionStyleModel",
          "model_module_version": "1.5.0",
          "state": {
            "_model_module": "@jupyter-widgets/controls",
            "_model_module_version": "1.5.0",
            "_model_name": "DescriptionStyleModel",
            "_view_count": null,
            "_view_module": "@jupyter-widgets/base",
            "_view_module_version": "1.2.0",
            "_view_name": "StyleView",
            "description_width": ""
          }
        },
        "5a6a457e964b43368f59b54a47f938ad": {
          "model_module": "@jupyter-widgets/controls",
          "model_name": "HBoxModel",
          "model_module_version": "1.5.0",
          "state": {
            "_dom_classes": [],
            "_model_module": "@jupyter-widgets/controls",
            "_model_module_version": "1.5.0",
            "_model_name": "HBoxModel",
            "_view_count": null,
            "_view_module": "@jupyter-widgets/controls",
            "_view_module_version": "1.5.0",
            "_view_name": "HBoxView",
            "box_style": "",
            "children": [
              "IPY_MODEL_4728b8cd1b084564a1bc1c1342a6f90d",
              "IPY_MODEL_6b7bfc7073234a7d9d72e27bf83dc428",
              "IPY_MODEL_73349f9db4084b918c34c4c625e180f2"
            ],
            "layout": "IPY_MODEL_867618866f21413f8120a0ed8e406a8d"
          }
        },
        "4728b8cd1b084564a1bc1c1342a6f90d": {
          "model_module": "@jupyter-widgets/controls",
          "model_name": "HTMLModel",
          "model_module_version": "1.5.0",
          "state": {
            "_dom_classes": [],
            "_model_module": "@jupyter-widgets/controls",
            "_model_module_version": "1.5.0",
            "_model_name": "HTMLModel",
            "_view_count": null,
            "_view_module": "@jupyter-widgets/controls",
            "_view_module_version": "1.5.0",
            "_view_name": "HTMLView",
            "description": "",
            "description_tooltip": null,
            "layout": "IPY_MODEL_1607caa61b1c4c548371882b0b4a3939",
            "placeholder": "​",
            "style": "IPY_MODEL_cca0d1deb6b342338fc7e02ac46ae231",
            "value": "Downloading: 100%"
          }
        },
        "6b7bfc7073234a7d9d72e27bf83dc428": {
          "model_module": "@jupyter-widgets/controls",
          "model_name": "FloatProgressModel",
          "model_module_version": "1.5.0",
          "state": {
            "_dom_classes": [],
            "_model_module": "@jupyter-widgets/controls",
            "_model_module_version": "1.5.0",
            "_model_name": "FloatProgressModel",
            "_view_count": null,
            "_view_module": "@jupyter-widgets/controls",
            "_view_module_version": "1.5.0",
            "_view_name": "ProgressView",
            "bar_style": "success",
            "description": "",
            "description_tooltip": null,
            "layout": "IPY_MODEL_5505df8ccbee48e681439aa46809af5c",
            "max": 466062,
            "min": 0,
            "orientation": "horizontal",
            "style": "IPY_MODEL_04fb717d07f04ea8b16544fb251db343",
            "value": 466062
          }
        },
        "73349f9db4084b918c34c4c625e180f2": {
          "model_module": "@jupyter-widgets/controls",
          "model_name": "HTMLModel",
          "model_module_version": "1.5.0",
          "state": {
            "_dom_classes": [],
            "_model_module": "@jupyter-widgets/controls",
            "_model_module_version": "1.5.0",
            "_model_name": "HTMLModel",
            "_view_count": null,
            "_view_module": "@jupyter-widgets/controls",
            "_view_module_version": "1.5.0",
            "_view_name": "HTMLView",
            "description": "",
            "description_tooltip": null,
            "layout": "IPY_MODEL_9044ead8e123465299789baeb3761afb",
            "placeholder": "​",
            "style": "IPY_MODEL_097808bae5b54a82880aae4165e08ea4",
            "value": " 466k/466k [00:00&lt;00:00, 12.9MB/s]"
          }
        },
        "867618866f21413f8120a0ed8e406a8d": {
          "model_module": "@jupyter-widgets/base",
          "model_name": "LayoutModel",
          "model_module_version": "1.2.0",
          "state": {
            "_model_module": "@jupyter-widgets/base",
            "_model_module_version": "1.2.0",
            "_model_name": "LayoutModel",
            "_view_count": null,
            "_view_module": "@jupyter-widgets/base",
            "_view_module_version": "1.2.0",
            "_view_name": "LayoutView",
            "align_content": null,
            "align_items": null,
            "align_self": null,
            "border": null,
            "bottom": null,
            "display": null,
            "flex": null,
            "flex_flow": null,
            "grid_area": null,
            "grid_auto_columns": null,
            "grid_auto_flow": null,
            "grid_auto_rows": null,
            "grid_column": null,
            "grid_gap": null,
            "grid_row": null,
            "grid_template_areas": null,
            "grid_template_columns": null,
            "grid_template_rows": null,
            "height": null,
            "justify_content": null,
            "justify_items": null,
            "left": null,
            "margin": null,
            "max_height": null,
            "max_width": null,
            "min_height": null,
            "min_width": null,
            "object_fit": null,
            "object_position": null,
            "order": null,
            "overflow": null,
            "overflow_x": null,
            "overflow_y": null,
            "padding": null,
            "right": null,
            "top": null,
            "visibility": null,
            "width": null
          }
        },
        "1607caa61b1c4c548371882b0b4a3939": {
          "model_module": "@jupyter-widgets/base",
          "model_name": "LayoutModel",
          "model_module_version": "1.2.0",
          "state": {
            "_model_module": "@jupyter-widgets/base",
            "_model_module_version": "1.2.0",
            "_model_name": "LayoutModel",
            "_view_count": null,
            "_view_module": "@jupyter-widgets/base",
            "_view_module_version": "1.2.0",
            "_view_name": "LayoutView",
            "align_content": null,
            "align_items": null,
            "align_self": null,
            "border": null,
            "bottom": null,
            "display": null,
            "flex": null,
            "flex_flow": null,
            "grid_area": null,
            "grid_auto_columns": null,
            "grid_auto_flow": null,
            "grid_auto_rows": null,
            "grid_column": null,
            "grid_gap": null,
            "grid_row": null,
            "grid_template_areas": null,
            "grid_template_columns": null,
            "grid_template_rows": null,
            "height": null,
            "justify_content": null,
            "justify_items": null,
            "left": null,
            "margin": null,
            "max_height": null,
            "max_width": null,
            "min_height": null,
            "min_width": null,
            "object_fit": null,
            "object_position": null,
            "order": null,
            "overflow": null,
            "overflow_x": null,
            "overflow_y": null,
            "padding": null,
            "right": null,
            "top": null,
            "visibility": null,
            "width": null
          }
        },
        "cca0d1deb6b342338fc7e02ac46ae231": {
          "model_module": "@jupyter-widgets/controls",
          "model_name": "DescriptionStyleModel",
          "model_module_version": "1.5.0",
          "state": {
            "_model_module": "@jupyter-widgets/controls",
            "_model_module_version": "1.5.0",
            "_model_name": "DescriptionStyleModel",
            "_view_count": null,
            "_view_module": "@jupyter-widgets/base",
            "_view_module_version": "1.2.0",
            "_view_name": "StyleView",
            "description_width": ""
          }
        },
        "5505df8ccbee48e681439aa46809af5c": {
          "model_module": "@jupyter-widgets/base",
          "model_name": "LayoutModel",
          "model_module_version": "1.2.0",
          "state": {
            "_model_module": "@jupyter-widgets/base",
            "_model_module_version": "1.2.0",
            "_model_name": "LayoutModel",
            "_view_count": null,
            "_view_module": "@jupyter-widgets/base",
            "_view_module_version": "1.2.0",
            "_view_name": "LayoutView",
            "align_content": null,
            "align_items": null,
            "align_self": null,
            "border": null,
            "bottom": null,
            "display": null,
            "flex": null,
            "flex_flow": null,
            "grid_area": null,
            "grid_auto_columns": null,
            "grid_auto_flow": null,
            "grid_auto_rows": null,
            "grid_column": null,
            "grid_gap": null,
            "grid_row": null,
            "grid_template_areas": null,
            "grid_template_columns": null,
            "grid_template_rows": null,
            "height": null,
            "justify_content": null,
            "justify_items": null,
            "left": null,
            "margin": null,
            "max_height": null,
            "max_width": null,
            "min_height": null,
            "min_width": null,
            "object_fit": null,
            "object_position": null,
            "order": null,
            "overflow": null,
            "overflow_x": null,
            "overflow_y": null,
            "padding": null,
            "right": null,
            "top": null,
            "visibility": null,
            "width": null
          }
        },
        "04fb717d07f04ea8b16544fb251db343": {
          "model_module": "@jupyter-widgets/controls",
          "model_name": "ProgressStyleModel",
          "model_module_version": "1.5.0",
          "state": {
            "_model_module": "@jupyter-widgets/controls",
            "_model_module_version": "1.5.0",
            "_model_name": "ProgressStyleModel",
            "_view_count": null,
            "_view_module": "@jupyter-widgets/base",
            "_view_module_version": "1.2.0",
            "_view_name": "StyleView",
            "bar_color": null,
            "description_width": ""
          }
        },
        "9044ead8e123465299789baeb3761afb": {
          "model_module": "@jupyter-widgets/base",
          "model_name": "LayoutModel",
          "model_module_version": "1.2.0",
          "state": {
            "_model_module": "@jupyter-widgets/base",
            "_model_module_version": "1.2.0",
            "_model_name": "LayoutModel",
            "_view_count": null,
            "_view_module": "@jupyter-widgets/base",
            "_view_module_version": "1.2.0",
            "_view_name": "LayoutView",
            "align_content": null,
            "align_items": null,
            "align_self": null,
            "border": null,
            "bottom": null,
            "display": null,
            "flex": null,
            "flex_flow": null,
            "grid_area": null,
            "grid_auto_columns": null,
            "grid_auto_flow": null,
            "grid_auto_rows": null,
            "grid_column": null,
            "grid_gap": null,
            "grid_row": null,
            "grid_template_areas": null,
            "grid_template_columns": null,
            "grid_template_rows": null,
            "height": null,
            "justify_content": null,
            "justify_items": null,
            "left": null,
            "margin": null,
            "max_height": null,
            "max_width": null,
            "min_height": null,
            "min_width": null,
            "object_fit": null,
            "object_position": null,
            "order": null,
            "overflow": null,
            "overflow_x": null,
            "overflow_y": null,
            "padding": null,
            "right": null,
            "top": null,
            "visibility": null,
            "width": null
          }
        },
        "097808bae5b54a82880aae4165e08ea4": {
          "model_module": "@jupyter-widgets/controls",
          "model_name": "DescriptionStyleModel",
          "model_module_version": "1.5.0",
          "state": {
            "_model_module": "@jupyter-widgets/controls",
            "_model_module_version": "1.5.0",
            "_model_name": "DescriptionStyleModel",
            "_view_count": null,
            "_view_module": "@jupyter-widgets/base",
            "_view_module_version": "1.2.0",
            "_view_name": "StyleView",
            "description_width": ""
          }
        },
        "1b3ec2879fa341eebbc1d467351f5dcd": {
          "model_module": "@jupyter-widgets/controls",
          "model_name": "HBoxModel",
          "model_module_version": "1.5.0",
          "state": {
            "_dom_classes": [],
            "_model_module": "@jupyter-widgets/controls",
            "_model_module_version": "1.5.0",
            "_model_name": "HBoxModel",
            "_view_count": null,
            "_view_module": "@jupyter-widgets/controls",
            "_view_module_version": "1.5.0",
            "_view_name": "HBoxView",
            "box_style": "",
            "children": [
              "IPY_MODEL_8832a607e64a4d87be8d48cc30c8280a",
              "IPY_MODEL_54ae4c9e1d6445bb947c9077cbb40a43",
              "IPY_MODEL_4048ee32cb164c5c8a76477894100e85"
            ],
            "layout": "IPY_MODEL_03716dd932ca4fbba4d347d0dd62b5c7"
          }
        },
        "8832a607e64a4d87be8d48cc30c8280a": {
          "model_module": "@jupyter-widgets/controls",
          "model_name": "HTMLModel",
          "model_module_version": "1.5.0",
          "state": {
            "_dom_classes": [],
            "_model_module": "@jupyter-widgets/controls",
            "_model_module_version": "1.5.0",
            "_model_name": "HTMLModel",
            "_view_count": null,
            "_view_module": "@jupyter-widgets/controls",
            "_view_module_version": "1.5.0",
            "_view_name": "HTMLView",
            "description": "",
            "description_tooltip": null,
            "layout": "IPY_MODEL_7f09f63c258749ddafd0e30f8ed19b74",
            "placeholder": "​",
            "style": "IPY_MODEL_3bce21a3b8ea4872ae06a3db31812453",
            "value": "Downloading: 100%"
          }
        },
        "54ae4c9e1d6445bb947c9077cbb40a43": {
          "model_module": "@jupyter-widgets/controls",
          "model_name": "FloatProgressModel",
          "model_module_version": "1.5.0",
          "state": {
            "_dom_classes": [],
            "_model_module": "@jupyter-widgets/controls",
            "_model_module_version": "1.5.0",
            "_model_name": "FloatProgressModel",
            "_view_count": null,
            "_view_module": "@jupyter-widgets/controls",
            "_view_module_version": "1.5.0",
            "_view_name": "ProgressView",
            "bar_style": "success",
            "description": "",
            "description_tooltip": null,
            "layout": "IPY_MODEL_ee370e11f58048f798262150e50c1ed7",
            "max": 1340675298,
            "min": 0,
            "orientation": "horizontal",
            "style": "IPY_MODEL_6b7f9b9bd8a8410d873168e9cbe7ac74",
            "value": 1340675298
          }
        },
        "4048ee32cb164c5c8a76477894100e85": {
          "model_module": "@jupyter-widgets/controls",
          "model_name": "HTMLModel",
          "model_module_version": "1.5.0",
          "state": {
            "_dom_classes": [],
            "_model_module": "@jupyter-widgets/controls",
            "_model_module_version": "1.5.0",
            "_model_name": "HTMLModel",
            "_view_count": null,
            "_view_module": "@jupyter-widgets/controls",
            "_view_module_version": "1.5.0",
            "_view_name": "HTMLView",
            "description": "",
            "description_tooltip": null,
            "layout": "IPY_MODEL_2259dee6322840cb98469d2c230ce705",
            "placeholder": "​",
            "style": "IPY_MODEL_4e4afdf86da8458898816f2230b2cbe3",
            "value": " 1.34G/1.34G [00:27&lt;00:00, 48.3MB/s]"
          }
        },
        "03716dd932ca4fbba4d347d0dd62b5c7": {
          "model_module": "@jupyter-widgets/base",
          "model_name": "LayoutModel",
          "model_module_version": "1.2.0",
          "state": {
            "_model_module": "@jupyter-widgets/base",
            "_model_module_version": "1.2.0",
            "_model_name": "LayoutModel",
            "_view_count": null,
            "_view_module": "@jupyter-widgets/base",
            "_view_module_version": "1.2.0",
            "_view_name": "LayoutView",
            "align_content": null,
            "align_items": null,
            "align_self": null,
            "border": null,
            "bottom": null,
            "display": null,
            "flex": null,
            "flex_flow": null,
            "grid_area": null,
            "grid_auto_columns": null,
            "grid_auto_flow": null,
            "grid_auto_rows": null,
            "grid_column": null,
            "grid_gap": null,
            "grid_row": null,
            "grid_template_areas": null,
            "grid_template_columns": null,
            "grid_template_rows": null,
            "height": null,
            "justify_content": null,
            "justify_items": null,
            "left": null,
            "margin": null,
            "max_height": null,
            "max_width": null,
            "min_height": null,
            "min_width": null,
            "object_fit": null,
            "object_position": null,
            "order": null,
            "overflow": null,
            "overflow_x": null,
            "overflow_y": null,
            "padding": null,
            "right": null,
            "top": null,
            "visibility": null,
            "width": null
          }
        },
        "7f09f63c258749ddafd0e30f8ed19b74": {
          "model_module": "@jupyter-widgets/base",
          "model_name": "LayoutModel",
          "model_module_version": "1.2.0",
          "state": {
            "_model_module": "@jupyter-widgets/base",
            "_model_module_version": "1.2.0",
            "_model_name": "LayoutModel",
            "_view_count": null,
            "_view_module": "@jupyter-widgets/base",
            "_view_module_version": "1.2.0",
            "_view_name": "LayoutView",
            "align_content": null,
            "align_items": null,
            "align_self": null,
            "border": null,
            "bottom": null,
            "display": null,
            "flex": null,
            "flex_flow": null,
            "grid_area": null,
            "grid_auto_columns": null,
            "grid_auto_flow": null,
            "grid_auto_rows": null,
            "grid_column": null,
            "grid_gap": null,
            "grid_row": null,
            "grid_template_areas": null,
            "grid_template_columns": null,
            "grid_template_rows": null,
            "height": null,
            "justify_content": null,
            "justify_items": null,
            "left": null,
            "margin": null,
            "max_height": null,
            "max_width": null,
            "min_height": null,
            "min_width": null,
            "object_fit": null,
            "object_position": null,
            "order": null,
            "overflow": null,
            "overflow_x": null,
            "overflow_y": null,
            "padding": null,
            "right": null,
            "top": null,
            "visibility": null,
            "width": null
          }
        },
        "3bce21a3b8ea4872ae06a3db31812453": {
          "model_module": "@jupyter-widgets/controls",
          "model_name": "DescriptionStyleModel",
          "model_module_version": "1.5.0",
          "state": {
            "_model_module": "@jupyter-widgets/controls",
            "_model_module_version": "1.5.0",
            "_model_name": "DescriptionStyleModel",
            "_view_count": null,
            "_view_module": "@jupyter-widgets/base",
            "_view_module_version": "1.2.0",
            "_view_name": "StyleView",
            "description_width": ""
          }
        },
        "ee370e11f58048f798262150e50c1ed7": {
          "model_module": "@jupyter-widgets/base",
          "model_name": "LayoutModel",
          "model_module_version": "1.2.0",
          "state": {
            "_model_module": "@jupyter-widgets/base",
            "_model_module_version": "1.2.0",
            "_model_name": "LayoutModel",
            "_view_count": null,
            "_view_module": "@jupyter-widgets/base",
            "_view_module_version": "1.2.0",
            "_view_name": "LayoutView",
            "align_content": null,
            "align_items": null,
            "align_self": null,
            "border": null,
            "bottom": null,
            "display": null,
            "flex": null,
            "flex_flow": null,
            "grid_area": null,
            "grid_auto_columns": null,
            "grid_auto_flow": null,
            "grid_auto_rows": null,
            "grid_column": null,
            "grid_gap": null,
            "grid_row": null,
            "grid_template_areas": null,
            "grid_template_columns": null,
            "grid_template_rows": null,
            "height": null,
            "justify_content": null,
            "justify_items": null,
            "left": null,
            "margin": null,
            "max_height": null,
            "max_width": null,
            "min_height": null,
            "min_width": null,
            "object_fit": null,
            "object_position": null,
            "order": null,
            "overflow": null,
            "overflow_x": null,
            "overflow_y": null,
            "padding": null,
            "right": null,
            "top": null,
            "visibility": null,
            "width": null
          }
        },
        "6b7f9b9bd8a8410d873168e9cbe7ac74": {
          "model_module": "@jupyter-widgets/controls",
          "model_name": "ProgressStyleModel",
          "model_module_version": "1.5.0",
          "state": {
            "_model_module": "@jupyter-widgets/controls",
            "_model_module_version": "1.5.0",
            "_model_name": "ProgressStyleModel",
            "_view_count": null,
            "_view_module": "@jupyter-widgets/base",
            "_view_module_version": "1.2.0",
            "_view_name": "StyleView",
            "bar_color": null,
            "description_width": ""
          }
        },
        "2259dee6322840cb98469d2c230ce705": {
          "model_module": "@jupyter-widgets/base",
          "model_name": "LayoutModel",
          "model_module_version": "1.2.0",
          "state": {
            "_model_module": "@jupyter-widgets/base",
            "_model_module_version": "1.2.0",
            "_model_name": "LayoutModel",
            "_view_count": null,
            "_view_module": "@jupyter-widgets/base",
            "_view_module_version": "1.2.0",
            "_view_name": "LayoutView",
            "align_content": null,
            "align_items": null,
            "align_self": null,
            "border": null,
            "bottom": null,
            "display": null,
            "flex": null,
            "flex_flow": null,
            "grid_area": null,
            "grid_auto_columns": null,
            "grid_auto_flow": null,
            "grid_auto_rows": null,
            "grid_column": null,
            "grid_gap": null,
            "grid_row": null,
            "grid_template_areas": null,
            "grid_template_columns": null,
            "grid_template_rows": null,
            "height": null,
            "justify_content": null,
            "justify_items": null,
            "left": null,
            "margin": null,
            "max_height": null,
            "max_width": null,
            "min_height": null,
            "min_width": null,
            "object_fit": null,
            "object_position": null,
            "order": null,
            "overflow": null,
            "overflow_x": null,
            "overflow_y": null,
            "padding": null,
            "right": null,
            "top": null,
            "visibility": null,
            "width": null
          }
        },
        "4e4afdf86da8458898816f2230b2cbe3": {
          "model_module": "@jupyter-widgets/controls",
          "model_name": "DescriptionStyleModel",
          "model_module_version": "1.5.0",
          "state": {
            "_model_module": "@jupyter-widgets/controls",
            "_model_module_version": "1.5.0",
            "_model_name": "DescriptionStyleModel",
            "_view_count": null,
            "_view_module": "@jupyter-widgets/base",
            "_view_module_version": "1.2.0",
            "_view_name": "StyleView",
            "description_width": ""
          }
        }
      }
    }
  },
  "cells": [
    {
      "cell_type": "code",
      "source": [
        "!pip3 install transformers "
      ],
      "metadata": {
        "colab": {
          "base_uri": "https://localhost:8080/"
        },
        "id": "hsGTkVhVR34R",
        "outputId": "68365492-367f-4310-e7a6-3ba2ab9e1106"
      },
      "execution_count": 1,
      "outputs": [
        {
          "output_type": "stream",
          "name": "stdout",
          "text": [
            "Looking in indexes: https://pypi.org/simple, https://us-python.pkg.dev/colab-wheels/public/simple/\n",
            "Collecting transformers\n",
            "  Downloading transformers-4.25.1-py3-none-any.whl (5.8 MB)\n",
            "\u001b[2K     \u001b[90m━━━━━━━━━━━━━━━━━━━━━━━━━━━━━━━━━━━━━━━━\u001b[0m \u001b[32m5.8/5.8 MB\u001b[0m \u001b[31m85.0 MB/s\u001b[0m eta \u001b[36m0:00:00\u001b[0m\n",
            "\u001b[?25hCollecting huggingface-hub<1.0,>=0.10.0\n",
            "  Downloading huggingface_hub-0.11.1-py3-none-any.whl (182 kB)\n",
            "\u001b[2K     \u001b[90m━━━━━━━━━━━━━━━━━━━━━━━━━━━━━━━━━━━━━━\u001b[0m \u001b[32m182.4/182.4 KB\u001b[0m \u001b[31m25.6 MB/s\u001b[0m eta \u001b[36m0:00:00\u001b[0m\n",
            "\u001b[?25hRequirement already satisfied: requests in /usr/local/lib/python3.8/dist-packages (from transformers) (2.25.1)\n",
            "Requirement already satisfied: tqdm>=4.27 in /usr/local/lib/python3.8/dist-packages (from transformers) (4.64.1)\n",
            "Requirement already satisfied: regex!=2019.12.17 in /usr/local/lib/python3.8/dist-packages (from transformers) (2022.6.2)\n",
            "Collecting tokenizers!=0.11.3,<0.14,>=0.11.1\n",
            "  Downloading tokenizers-0.13.2-cp38-cp38-manylinux_2_17_x86_64.manylinux2014_x86_64.whl (7.6 MB)\n",
            "\u001b[2K     \u001b[90m━━━━━━━━━━━━━━━━━━━━━━━━━━━━━━━━━━━━━━━━\u001b[0m \u001b[32m7.6/7.6 MB\u001b[0m \u001b[31m122.5 MB/s\u001b[0m eta \u001b[36m0:00:00\u001b[0m\n",
            "\u001b[?25hRequirement already satisfied: packaging>=20.0 in /usr/local/lib/python3.8/dist-packages (from transformers) (21.3)\n",
            "Requirement already satisfied: filelock in /usr/local/lib/python3.8/dist-packages (from transformers) (3.9.0)\n",
            "Requirement already satisfied: pyyaml>=5.1 in /usr/local/lib/python3.8/dist-packages (from transformers) (6.0)\n",
            "Requirement already satisfied: numpy>=1.17 in /usr/local/lib/python3.8/dist-packages (from transformers) (1.21.6)\n",
            "Requirement already satisfied: typing-extensions>=3.7.4.3 in /usr/local/lib/python3.8/dist-packages (from huggingface-hub<1.0,>=0.10.0->transformers) (4.4.0)\n",
            "Requirement already satisfied: pyparsing!=3.0.5,>=2.0.2 in /usr/local/lib/python3.8/dist-packages (from packaging>=20.0->transformers) (3.0.9)\n",
            "Requirement already satisfied: chardet<5,>=3.0.2 in /usr/local/lib/python3.8/dist-packages (from requests->transformers) (4.0.0)\n",
            "Requirement already satisfied: idna<3,>=2.5 in /usr/local/lib/python3.8/dist-packages (from requests->transformers) (2.10)\n",
            "Requirement already satisfied: urllib3<1.27,>=1.21.1 in /usr/local/lib/python3.8/dist-packages (from requests->transformers) (1.24.3)\n",
            "Requirement already satisfied: certifi>=2017.4.17 in /usr/local/lib/python3.8/dist-packages (from requests->transformers) (2022.12.7)\n",
            "Installing collected packages: tokenizers, huggingface-hub, transformers\n",
            "Successfully installed huggingface-hub-0.11.1 tokenizers-0.13.2 transformers-4.25.1\n"
          ]
        }
      ]
    },
    {
      "cell_type": "code",
      "source": [
        "from transformers import AutoTokenizer, AutoModelForQuestionAnswering\n"
      ],
      "metadata": {
        "id": "6K8wEYl8u0L4"
      },
      "execution_count": 2,
      "outputs": []
    },
    {
      "cell_type": "code",
      "source": [
        "tokenizer = AutoTokenizer.from_pretrained(\"bert-large-uncased-whole-word-masking-finetuned-squad\")\n",
        "\n",
        "model = AutoModelForQuestionAnswering.from_pretrained(\"bert-large-uncased-whole-word-masking-finetuned-squad\")"
      ],
      "metadata": {
        "colab": {
          "base_uri": "https://localhost:8080/",
          "height": 177,
          "referenced_widgets": [
            "11834e8d20be4832bb9bb67d6a4c1c57",
            "be7febd4bb6144bd964b66ba6ae5c3af",
            "35825634885e4058b566554e44b631b6",
            "795d7a76ed9c4092b629de2ea1692954",
            "4cdbb98deed14ef5b1c4d11f824b9d0e",
            "cd93113937c343d58afd611589f1f26a",
            "33fa3e9e43f44cc5940c81e78407dbf0",
            "d067f5ce18f046e6871dcb8f794f4242",
            "abd33e6ba18747af8b37bb639b8a1e80",
            "abc38ed8dddf4107aadfe770f151faca",
            "2db8b302aca041b58d2adde1d9516176",
            "6000923ed45548f3b5ca8bd161f4df7b",
            "de82e205c0b746828ab21921dc829411",
            "c075b6b86a8c4a7084235091eaf47db9",
            "b4d56863126e44889e313e1aa6f8eccc",
            "1224fce2314b44f1b5646160791870dc",
            "2b9174a9a087496889118dba7c03e98b",
            "88539bbb79a74818b27c079729d3a009",
            "a5410514610b4a118051b8db62e86645",
            "c78866489e5d4497bd015b9541df2989",
            "abb4c65ebcbd43d58029dcc5a6519bc0",
            "e8d40c1097f64a078b62360a14ef5457",
            "bf55b8055b4d4d82a7b417360fe7b517",
            "03870fe10566414e89e79a026b365bab",
            "57f18fdceb06488197f8aea18cca888d",
            "714e7cd54b424815835f738d6546fc37",
            "9b1f9b6a57d64a2cb0c185a5a9fe3158",
            "188fb7c0b78649aea9a9af104b8e2ae5",
            "ced17f8123e743d088b433fe5f61068d",
            "cb559872973144e3a6637d67941fc803",
            "f06a17a3e11e4f16a31d5836986b8ac1",
            "e84c462d989f4c5695a528ab44c01ca4",
            "07f89142c0ff4378afb3f3b831627602",
            "5a6a457e964b43368f59b54a47f938ad",
            "4728b8cd1b084564a1bc1c1342a6f90d",
            "6b7bfc7073234a7d9d72e27bf83dc428",
            "73349f9db4084b918c34c4c625e180f2",
            "867618866f21413f8120a0ed8e406a8d",
            "1607caa61b1c4c548371882b0b4a3939",
            "cca0d1deb6b342338fc7e02ac46ae231",
            "5505df8ccbee48e681439aa46809af5c",
            "04fb717d07f04ea8b16544fb251db343",
            "9044ead8e123465299789baeb3761afb",
            "097808bae5b54a82880aae4165e08ea4",
            "1b3ec2879fa341eebbc1d467351f5dcd",
            "8832a607e64a4d87be8d48cc30c8280a",
            "54ae4c9e1d6445bb947c9077cbb40a43",
            "4048ee32cb164c5c8a76477894100e85",
            "03716dd932ca4fbba4d347d0dd62b5c7",
            "7f09f63c258749ddafd0e30f8ed19b74",
            "3bce21a3b8ea4872ae06a3db31812453",
            "ee370e11f58048f798262150e50c1ed7",
            "6b7f9b9bd8a8410d873168e9cbe7ac74",
            "2259dee6322840cb98469d2c230ce705",
            "4e4afdf86da8458898816f2230b2cbe3"
          ]
        },
        "id": "OZF1HiK6u0Z-",
        "outputId": "4df5e0c4-1f76-4602-b586-db388405c914"
      },
      "execution_count": 3,
      "outputs": [
        {
          "output_type": "display_data",
          "data": {
            "text/plain": [
              "Downloading:   0%|          | 0.00/28.0 [00:00<?, ?B/s]"
            ],
            "application/vnd.jupyter.widget-view+json": {
              "version_major": 2,
              "version_minor": 0,
              "model_id": "11834e8d20be4832bb9bb67d6a4c1c57"
            }
          },
          "metadata": {}
        },
        {
          "output_type": "display_data",
          "data": {
            "text/plain": [
              "Downloading:   0%|          | 0.00/443 [00:00<?, ?B/s]"
            ],
            "application/vnd.jupyter.widget-view+json": {
              "version_major": 2,
              "version_minor": 0,
              "model_id": "6000923ed45548f3b5ca8bd161f4df7b"
            }
          },
          "metadata": {}
        },
        {
          "output_type": "display_data",
          "data": {
            "text/plain": [
              "Downloading:   0%|          | 0.00/232k [00:00<?, ?B/s]"
            ],
            "application/vnd.jupyter.widget-view+json": {
              "version_major": 2,
              "version_minor": 0,
              "model_id": "bf55b8055b4d4d82a7b417360fe7b517"
            }
          },
          "metadata": {}
        },
        {
          "output_type": "display_data",
          "data": {
            "text/plain": [
              "Downloading:   0%|          | 0.00/466k [00:00<?, ?B/s]"
            ],
            "application/vnd.jupyter.widget-view+json": {
              "version_major": 2,
              "version_minor": 0,
              "model_id": "5a6a457e964b43368f59b54a47f938ad"
            }
          },
          "metadata": {}
        },
        {
          "output_type": "display_data",
          "data": {
            "text/plain": [
              "Downloading:   0%|          | 0.00/1.34G [00:00<?, ?B/s]"
            ],
            "application/vnd.jupyter.widget-view+json": {
              "version_major": 2,
              "version_minor": 0,
              "model_id": "1b3ec2879fa341eebbc1d467351f5dcd"
            }
          },
          "metadata": {}
        }
      ]
    },
    {
      "cell_type": "code",
      "source": [
        "from transformers import pipeline\n",
        "nlp = pipeline('question-answering', model=model, tokenizer=tokenizer)"
      ],
      "metadata": {
        "id": "pUKElb1ER83s"
      },
      "execution_count": 4,
      "outputs": []
    },
    {
      "cell_type": "code",
      "source": [
        "context=\"· Inhomogenous opacities in the left lower zone . Cardiac size could not be commented as AP film. Both the domes of diaphragm have normal contours and position. Both costophrenic angles clear. Bony thorax and soft-tissues are normal\"\n",
        "\n",
        "nlp({\n",
        "    'question': 'key takeaways ',\n",
        "     'context': context\n",
        "})"
      ],
      "metadata": {
        "colab": {
          "base_uri": "https://localhost:8080/"
        },
        "id": "4dbWMgvGS8O_",
        "outputId": "f9d092fb-4128-44bf-dc46-c6541aa90059"
      },
      "execution_count": 5,
      "outputs": [
        {
          "output_type": "execute_result",
          "data": {
            "text/plain": [
              "{'score': 0.04553797468543053,\n",
              " 'start': 2,\n",
              " 'end': 47,\n",
              " 'answer': 'Inhomogenous opacities in the left lower zone'}"
            ]
          },
          "metadata": {},
          "execution_count": 5
        }
      ]
    },
    {
      "cell_type": "code",
      "source": [
        "context=\"Evidence of metallic plate fixation done for fracture  fibula. CC screw fixation for fracture medial malleolous. Reduction acceptable. Soft tissue swelling. Rest of all bones is normal.\"\n",
        "nlp({\n",
        "    'question': 'What is impression',\n",
        "     'context': context    \n",
        "})"
      ],
      "metadata": {
        "id": "3MuOpJR2goz3",
        "colab": {
          "base_uri": "https://localhost:8080/"
        },
        "outputId": "1ca0a93b-aac6-4488-d9f4-ee59d91c0ab4"
      },
      "execution_count": 6,
      "outputs": [
        {
          "output_type": "execute_result",
          "data": {
            "text/plain": [
              "{'score': 0.14943717420101166,\n",
              " 'start': 135,\n",
              " 'end': 185,\n",
              " 'answer': 'Soft tissue swelling. Rest of all bones is normal.'}"
            ]
          },
          "metadata": {},
          "execution_count": 6
        }
      ]
    },
    {
      "cell_type": "code",
      "source": [
        "context=\"Evidence of metallic plate fixation done for fracture  fibula. CC screw fixation for fracture medial malleolous. Reduction acceptable. Soft tissue swelling. Rest of all bones is normal.\"\n",
        "nlp({\n",
        "    'question': 'What is impression',\n",
        "     'context': context    \n",
        "})"
      ],
      "metadata": {
        "id": "0T-uxXQp2sRE",
        "colab": {
          "base_uri": "https://localhost:8080/"
        },
        "outputId": "36b38536-7fa9-4df2-f0ea-1eb600dec07d"
      },
      "execution_count": 7,
      "outputs": [
        {
          "output_type": "execute_result",
          "data": {
            "text/plain": [
              "{'score': 0.14943717420101166,\n",
              " 'start': 135,\n",
              " 'end': 185,\n",
              " 'answer': 'Soft tissue swelling. Rest of all bones is normal.'}"
            ]
          },
          "metadata": {},
          "execution_count": 7
        }
      ]
    },
    {
      "cell_type": "code",
      "source": [
        "context=\"CODEBUGGED was established with the view to solve the problem of decision-making through Artificial Intelligence. To help companies, startups, and MSMEs in mapping their journey towards increased productivity & revenue.\"\n",
        "nlp({\n",
        "    'question': 'What is codebugged',\n",
        "     'context': context    \n",
        "})"
      ],
      "metadata": {
        "colab": {
          "base_uri": "https://localhost:8080/"
        },
        "id": "wJIhSdW2mIiT",
        "outputId": "5acf56fe-260f-4e18-b660-73893325cac7"
      },
      "execution_count": 8,
      "outputs": [
        {
          "output_type": "execute_result",
          "data": {
            "text/plain": [
              "{'score': 0.1422853022813797,\n",
              " 'start': 41,\n",
              " 'end': 112,\n",
              " 'answer': 'to solve the problem of decision-making through Artificial Intelligence'}"
            ]
          },
          "metadata": {},
          "execution_count": 8
        }
      ]
    },
    {
      "cell_type": "code",
      "source": [
        "text=\"The Vatican Apostolic Library (), more commonly called the Vatican Library or simply the Vat, is the library of the Holy See, located in Vatican City. Formally established in 1475, although it is much older, it is one of the oldest libraries in the world and contains one of the most significant collections of historical texts. It has 75,000 codices from throughout history, as well as 1.1 million printed books, which include some 8,500 incunabula.   The Vatican Library is a research library for history, law, philosophy, science and theology. The Vatican Library is open to anyone who can document their qualifications and research needs. Photocopies for private study of pages from books published between 1801 and 1990 can be requested in person or by mail.   In March 2014, the Vatican Library began an initial four-year project of digitising its collection of manuscripts, to be made available online.   The Vatican Secret Archives were separated from the library at the beginning of the 17th century; they contain another 150,000 items.   Scholars have traditionally divided the history of the library into five periods, Pre-Lateran, Lateran, Avignon, Pre-Vatican and Vatican.   The Pre-Lateran period, comprising the initial days of the library, dated from the earliest days of the Church. Only a handful of volumes survive from this period, though some are very significant.\"\n",
        "nlp({\n",
        "    'question': 'When was the Vat formally opened?',\n",
        "     'context': text    \n",
        "})"
      ],
      "metadata": {
        "colab": {
          "base_uri": "https://localhost:8080/"
        },
        "id": "My7U4goymmwT",
        "outputId": "4ce3d92a-ed05-4e86-d07a-ce02c9812688"
      },
      "execution_count": 9,
      "outputs": [
        {
          "output_type": "execute_result",
          "data": {
            "text/plain": [
              "{'score': 0.9749076962471008, 'start': 175, 'end': 179, 'answer': '1475'}"
            ]
          },
          "metadata": {},
          "execution_count": 9
        }
      ]
    },
    {
      "cell_type": "code",
      "source": [
        "nlp({\n",
        "    'question': 'What is django',\n",
        "     'context': text    \n",
        "})"
      ],
      "metadata": {
        "colab": {
          "base_uri": "https://localhost:8080/"
        },
        "id": "QDiKYq36osdi",
        "outputId": "0e35bd1d-abf4-4b2c-cd20-cdbd982d3f05"
      },
      "execution_count": 10,
      "outputs": [
        {
          "output_type": "execute_result",
          "data": {
            "text/plain": [
              "{'score': 0.08550895750522614,\n",
              " 'start': 214,\n",
              " 'end': 254,\n",
              " 'answer': 'one of the oldest libraries in the world'}"
            ]
          },
          "metadata": {},
          "execution_count": 10
        }
      ]
    },
    {
      "cell_type": "code",
      "source": [
        "nlp({\n",
        "    'question': 'What is library',\n",
        "     'context': text    \n",
        "})"
      ],
      "metadata": {
        "colab": {
          "base_uri": "https://localhost:8080/"
        },
        "id": "ccIr4Ur7pTkT",
        "outputId": "38894110-9850-472c-e3ff-16902662aa82"
      },
      "execution_count": 11,
      "outputs": [
        {
          "output_type": "execute_result",
          "data": {
            "text/plain": [
              "{'score': 0.06682462990283966,\n",
              " 'start': 0,\n",
              " 'end': 29,\n",
              " 'answer': 'The Vatican Apostolic Library'}"
            ]
          },
          "metadata": {},
          "execution_count": 11
        }
      ]
    },
    {
      "cell_type": "markdown",
      "source": [
        "## Page-1"
      ],
      "metadata": {
        "id": "iFLMfm86bRjb"
      }
    },
    {
      "cell_type": "code",
      "source": [
        "text=\"Vision & Mission The vision of MINE MITRA is to alter the mindset and approach of common people towards the mining sector and promote ease of doing business in the state of Uttar Pradesh, thus contributing towards sustainable economic growth and creating a benchmark. The mission of MINE MITRA is to ensure transparency, reliability and accuracy in mining processes and provide easy accessibility of minerals with equal benefit to all.\""
      ],
      "metadata": {
        "id": "UlUywkX3bQ3L"
      },
      "execution_count": 12,
      "outputs": []
    },
    {
      "cell_type": "code",
      "source": [
        "nlp({\n",
        "    'question': 'MINE MITRA vision',\n",
        "     'context': text    \n",
        "})"
      ],
      "metadata": {
        "id": "GSgk_d71pnoY",
        "colab": {
          "base_uri": "https://localhost:8080/"
        },
        "outputId": "377c72d5-f756-42f1-de09-9380d5a5a37b"
      },
      "execution_count": 13,
      "outputs": [
        {
          "output_type": "execute_result",
          "data": {
            "text/plain": [
              "{'score': 0.007953088730573654,\n",
              " 'start': 126,\n",
              " 'end': 186,\n",
              " 'answer': 'promote ease of doing business in the state of Uttar Pradesh'}"
            ]
          },
          "metadata": {},
          "execution_count": 13
        }
      ]
    },
    {
      "cell_type": "markdown",
      "source": [
        "##Page-2"
      ],
      "metadata": {
        "id": "r5EjeyjKb03D"
      }
    },
    {
      "cell_type": "code",
      "source": [
        "text=\"An innovative & ambitious initiative by the Directorate of Geology and Mining in the area of e -Governance .Attempt to integrate all mining processes into an end -to -end solution for mineral management . • An integrated IT Solution to curb illegal mining practices through real -time data surveillance and reports . • A common gateway or a unified platform for all citizen -centric mining services, marking a step forward to a cleaner and greener mining ecosystem .\""
      ],
      "metadata": {
        "id": "_FGhw0mRbmNB"
      },
      "execution_count": 14,
      "outputs": []
    },
    {
      "cell_type": "code",
      "source": [
        "nlp({\n",
        "    'question': 'MINE MITRA mineral managment',\n",
        "     'context': text    \n",
        "})"
      ],
      "metadata": {
        "id": "DIuKc_CLbytA",
        "colab": {
          "base_uri": "https://localhost:8080/"
        },
        "outputId": "8ddf2366-7155-4e28-ab35-ce40481af49a"
      },
      "execution_count": 15,
      "outputs": [
        {
          "output_type": "execute_result",
          "data": {
            "text/plain": [
              "{'score': 0.014924943447113037,\n",
              " 'start': 0,\n",
              " 'end': 77,\n",
              " 'answer': 'An innovative & ambitious initiative by the Directorate of Geology and Mining'}"
            ]
          },
          "metadata": {},
          "execution_count": 15
        }
      ]
    },
    {
      "cell_type": "markdown",
      "source": [
        "## page-3"
      ],
      "metadata": {
        "id": "eWTKTtWBf6eA"
      }
    },
    {
      "cell_type": "code",
      "source": [
        "text=\"The bottlenecks which triggered the Directorate to adopt new technologies and conceptualize MINE MITRA are:Price volatility Opaque user interface Long-winded and tedious manual processes resulting in delayed services due to red tape. Anomalies and malpractices – pilferage,overloading and unscientific & illegal mining.\""
      ],
      "metadata": {
        "id": "pQHegrzUf7JG"
      },
      "execution_count": 16,
      "outputs": []
    },
    {
      "cell_type": "code",
      "source": [
        "nlp({\n",
        "    'question': 'MINEMITRA bottlenecks',\n",
        "     'context': text    \n",
        "})"
      ],
      "metadata": {
        "colab": {
          "base_uri": "https://localhost:8080/"
        },
        "id": "EZHXD4zhgROt",
        "outputId": "87b57adc-b6c7-4504-d602-cece7aee0593"
      },
      "execution_count": 17,
      "outputs": [
        {
          "output_type": "execute_result",
          "data": {
            "text/plain": [
              "{'score': 0.2971900701522827,\n",
              " 'start': 107,\n",
              " 'end': 145,\n",
              " 'answer': 'Price volatility Opaque user interface'}"
            ]
          },
          "metadata": {},
          "execution_count": 17
        }
      ]
    },
    {
      "cell_type": "markdown",
      "source": [
        "##Page-4"
      ],
      "metadata": {
        "id": "aONn243JbObo"
      }
    },
    {
      "cell_type": "code",
      "source": [
        "text=\"KEY OBJECTIVES MINE MITRA came into existence after detailed discussions and brainstorming sessions with Director, UPDGM and other key stakeholders to achieve mentioned objectives.Create a user-friendly and responsive platform for e-services for the Common Man, Farmer, Lessee, Stockist and Transporter. Ensure transparency by onboarding all key stakeholders. enable price control and parity in the market by breaking nexus and monopolies by providing equal opportunity to upcoming entrepreneurs. Provide accessible and affordable minerals to the public. Implement ease of doing business & transactions in the mining sector. Encourage all stakeholders to adapt to the digital era and increase efficiency in functioning. Create a standardized legal regime, applicable uniformly to every Lessee & Transporter operating in the state. Generate greater revenue for the government through better mineral management Facilitate legal mining.\""
      ],
      "metadata": {
        "id": "3rwGTZ4ngci_"
      },
      "execution_count": 18,
      "outputs": []
    },
    {
      "cell_type": "code",
      "source": [
        "nlp({\n",
        "    'question': 'MINE MITRA key objectives',\n",
        "     'context': text    \n",
        "})"
      ],
      "metadata": {
        "colab": {
          "base_uri": "https://localhost:8080/"
        },
        "id": "Lfu2tRKkbjzL",
        "outputId": "49ef0af0-604c-4881-e8d2-e959d340a417"
      },
      "execution_count": 19,
      "outputs": [
        {
          "output_type": "execute_result",
          "data": {
            "text/plain": [
              "{'score': 0.015588158741593361,\n",
              " 'start': 180,\n",
              " 'end': 241,\n",
              " 'answer': 'Create a user-friendly and responsive platform for e-services'}"
            ]
          },
          "metadata": {},
          "execution_count": 19
        }
      ]
    },
    {
      "cell_type": "markdown",
      "source": [
        "##Page-5"
      ],
      "metadata": {
        "id": "JFqYN8hCfAaK"
      }
    },
    {
      "cell_type": "code",
      "source": [
        "text=\"Online Mineral Management e-Services for Citizens/Farmer Integrated Mining Surveillance System e-Commerce Platform for Consumer, Supplier, and Transporter.MINE MITRA has been successfully implemented with an umbrella of components mentioned as follows: Online Mineral Management,e-Services for Citizens/Farmer,Integrated Mining Surveillance System,e-Commerce Platform for Consumer, Supplier, and Transporter.\""
      ],
      "metadata": {
        "id": "LKnHUVVwbt1c"
      },
      "execution_count": 20,
      "outputs": []
    },
    {
      "cell_type": "code",
      "source": [
        "nlp({\n",
        "    'question': 'MINE MITRA COMPONENTS',\n",
        "     'context': text    \n",
        "})"
      ],
      "metadata": {
        "colab": {
          "base_uri": "https://localhost:8080/"
        },
        "id": "w6Jv20alcR6R",
        "outputId": "8b7a41de-6848-42b4-fe17-c0549b32e40c"
      },
      "execution_count": 21,
      "outputs": [
        {
          "output_type": "execute_result",
          "data": {
            "text/plain": [
              "{'score': 0.024298766627907753,\n",
              " 'start': 253,\n",
              " 'end': 278,\n",
              " 'answer': 'Online Mineral Management'}"
            ]
          },
          "metadata": {},
          "execution_count": 21
        }
      ]
    },
    {
      "cell_type": "markdown",
      "source": [
        "##Page-6"
      ],
      "metadata": {
        "id": "uEjoj_R_fErs"
      }
    },
    {
      "cell_type": "code",
      "source": [
        "text=\"ONLINE MINERAL MANAGEMENT EMM-11,Initiated On- AUG-2017 A transit pass for mineral transportation generated by the Lessee 2,31,37,7461 Transit Pass Issued. eFormC Initiated On- JUL-2020 A transit pass for mineral transportation generated by the Licensee 13,29,019 Transit Pass Issued. ISTP Initiated On- FEB-2020 An inter-state transit pass for vehicles ferrying minerals from other states 45,11,551 Transit Pass Issued 488 cr. Revenue Generated\""
      ],
      "metadata": {
        "id": "xVrRp1Lfcbp2"
      },
      "execution_count": 22,
      "outputs": []
    },
    {
      "cell_type": "code",
      "source": [
        "nlp({\n",
        "    'question': 'EMM-11 was Initiated on ',\n",
        "     'context': text    \n",
        "})"
      ],
      "metadata": {
        "colab": {
          "base_uri": "https://localhost:8080/"
        },
        "id": "AyGZDYIDex0u",
        "outputId": "16cdae36-4337-46a6-c1c5-b06cf8632e30"
      },
      "execution_count": 23,
      "outputs": [
        {
          "output_type": "execute_result",
          "data": {
            "text/plain": [
              "{'score': 0.41325318813323975, 'start': 47, 'end': 55, 'answer': 'AUG-2017'}"
            ]
          },
          "metadata": {},
          "execution_count": 23
        }
      ]
    },
    {
      "cell_type": "markdown",
      "source": [
        "##Page-7"
      ],
      "metadata": {
        "id": "46x3eMPXfN2p"
      }
    },
    {
      "cell_type": "code",
      "source": [
        "text=\"Online Payment of Lease ,Initiated On- JUN-2020 To collect lease instalment.822 Leases which includes 260 of Sand/Morrum & 246 of Insitu Rocks (Granite). Online Brick Earth Kilns,Initiated On- JUN-2020 To collect payment for brick earth kilns.418  Brick Earth Kiln has been made Online.Online module for payment of online regulating fees for interstate mineral bearing vehicles.Initiated On- JUL-2020. API Integration with VAHAN (Portal of Ministry of Road & Transport Highways) to get authentic vehicle details. API Integration with the e-TP issuance services of other states like Madhya Pradesh & Haryana.\""
      ],
      "metadata": {
        "id": "6BpRjKi9e40S"
      },
      "execution_count": 24,
      "outputs": []
    },
    {
      "cell_type": "code",
      "source": [
        "nlp({\n",
        "    'question': '822 lease includes',\n",
        "     'context': text    \n",
        "})"
      ],
      "metadata": {
        "colab": {
          "base_uri": "https://localhost:8080/"
        },
        "id": "tZ4MM9HKgE0g",
        "outputId": "f338956f-4946-4271-9b93-2d6bece1fddc"
      },
      "execution_count": 25,
      "outputs": [
        {
          "output_type": "execute_result",
          "data": {
            "text/plain": [
              "{'score': 0.1733163446187973,\n",
              " 'start': 102,\n",
              " 'end': 142,\n",
              " 'answer': '260 of Sand/Morrum & 246 of Insitu Rocks'}"
            ]
          },
          "metadata": {},
          "execution_count": 25
        }
      ]
    },
    {
      "cell_type": "markdown",
      "source": [
        "## Page-8"
      ],
      "metadata": {
        "id": "2xod_oCOgZHE"
      }
    },
    {
      "cell_type": "code",
      "source": [
        "text=\"Online Citizen/Farmer e-Services.01- Online License,Stock License Initiated On- JUL-2020,For issuing license to the Stockist for storing more than 100 cubic meters of mineral. 1321  Applications Processed.02- Online Permit,Krishi Bhoomi Initiated On- JUL-2020 For disposal of mineral deposits on agricultural land.1452  Applications Processed.Niji Bhoomi Initiated On- JUL-2020,Permission for disposal of Sand/Morrum and insitu from a private land.472  Applications Processed.Ordinary Earth Initiated On- JUL-2020,For issuing permits for mining of ordinary earth at site.11809  Applications Processed.Building/Development Projects Initiated On- JUL-2020 In commercial projects for the disposal of minerals found as by product during excavation.1219  Applications Processed \""
      ],
      "metadata": {
        "id": "8yNWBrU-gP9W"
      },
      "execution_count": 26,
      "outputs": []
    },
    {
      "cell_type": "code",
      "source": [
        "nlp({\n",
        "    'question': 'Krishi Bhoomi number of Application Processed',\n",
        "     'context': text    \n",
        "})"
      ],
      "metadata": {
        "colab": {
          "base_uri": "https://localhost:8080/"
        },
        "id": "-tAKmxZJiJVw",
        "outputId": "746eec96-845d-47c6-dbe0-72416655e307"
      },
      "execution_count": 27,
      "outputs": [
        {
          "output_type": "execute_result",
          "data": {
            "text/plain": [
              "{'score': 0.7332929968833923, 'start': 314, 'end': 318, 'answer': '1452'}"
            ]
          },
          "metadata": {},
          "execution_count": 27
        }
      ]
    },
    {
      "cell_type": "markdown",
      "source": [
        "##Page-9"
      ],
      "metadata": {
        "id": "Fp1HjBIvivxO"
      }
    },
    {
      "cell_type": "code",
      "source": [
        "text=\"03- Online Lease.Online LOI,Initiated On- JUL-2020 Upon completion of auction, the successful bidder (Proponent) can apply for online issuance of LOI subject to payment of security and royalty.1215 LOI Generated.Deed Execution,Initiated On- JUL-2020 Upon receive of environmental clearance, project proponent can apply online for deed execution for the stipulated period.117  Applications Processed.04- Online Registration.Mineral Retailer Registration,Initiated On- JUL-2020 Mineral retailer for sale up to 100 m3 have the facility of online self-registration so, promote small business to run without red tape.12610  Applications Processed.Registration for Mining of Ordinary Soil of Farmer’s Niji Bhoomi,Initiated On- JUL-2020 Self-registration facility for farmer for extraction & non-commercial use of ordinary earth.31415  Applications Processed.05 - Others.Approval of Mining Plan,Initiated On- JUL-2020 Mine-Mitra provides the facility of online processing of mining plan thereby avoiding the tedious process and save the time.1016 Mining Plan Approved.\""
      ],
      "metadata": {
        "id": "yampEQdCiZ4V"
      },
      "execution_count": 28,
      "outputs": []
    },
    {
      "cell_type": "code",
      "source": [
        "nlp({\n",
        "    'question': 'Total Approval of Mining Plan',\n",
        "     'context': text    \n",
        "})"
      ],
      "metadata": {
        "colab": {
          "base_uri": "https://localhost:8080/"
        },
        "id": "aeLZMbhnkJ7V",
        "outputId": "2d559e24-6d6a-4177-84f5-fc1a27ebdb81"
      },
      "execution_count": 29,
      "outputs": [
        {
          "output_type": "execute_result",
          "data": {
            "text/plain": [
              "{'score': 0.0180694367736578,\n",
              " 'start': 1035,\n",
              " 'end': 1060,\n",
              " 'answer': '1016 Mining Plan Approved'}"
            ]
          },
          "metadata": {},
          "execution_count": 29
        }
      ]
    },
    {
      "cell_type": "markdown",
      "source": [
        "## Page-10"
      ],
      "metadata": {
        "id": "97417sB7pbqJ"
      }
    },
    {
      "cell_type": "code",
      "source": [
        "text=\"Integrated Surveillance System Geo-Fencing Lease boundaries of all active leases with geo-coordinates plotted on map of Uttar Pradesh thereby displaying the virtual geographical perimeter in all state.518+ Lease Areas Geo-fenced\""
      ],
      "metadata": {
        "id": "VoLa5OfGkg4p"
      },
      "execution_count": 172,
      "outputs": []
    },
    {
      "cell_type": "code",
      "source": [
        "nlp({\n",
        "    'question': 'Total Lease Areas Geo-fenced',\n",
        "     'context': text    \n",
        "})"
      ],
      "metadata": {
        "colab": {
          "base_uri": "https://localhost:8080/"
        },
        "id": "q9pPg-3FptB5",
        "outputId": "e2f8dcb2-31c5-4dd6-8d99-0be5cc0e0eb5"
      },
      "execution_count": 173,
      "outputs": [
        {
          "output_type": "execute_result",
          "data": {
            "text/plain": [
              "{'score': 0.3875828981399536, 'start': 201, 'end': 204, 'answer': '518'}"
            ]
          },
          "metadata": {},
          "execution_count": 173
        }
      ]
    },
    {
      "cell_type": "markdown",
      "source": [
        "## Page-11"
      ],
      "metadata": {
        "id": "TbRwVF5XpwKn"
      }
    },
    {
      "cell_type": "code",
      "source": [
        "text=\"PTZ Camera & Weighbridge at Lessee Site PTZ camera at weighbridge applicable for active surveillance of mining activity. Its IR sensor with range upto 100 m. & work in minimum illumination & ultra-low light. A weighbridge is installed at all mining areas to track actual volume of minerals loaded on vehicles from mining area. 466+ Weighbridges Installed & Active.Minetag For Mineral Carrying Vehicles MINETag is a unique RFID Tag installed in the vehicles to identify the vehicle credential and inter alia validity of Transit Pass issued to that vehicles. 85,000+ MINETag issued to Mineral Carrying Vehicles.\""
      ],
      "metadata": {
        "id": "gNXtz-UmpyHi"
      },
      "execution_count": 40,
      "outputs": []
    },
    {
      "cell_type": "code",
      "source": [
        "nlp({\n",
        "    'question': 'use of PTZ camera',\n",
        "     'context': text    \n",
        "})"
      ],
      "metadata": {
        "colab": {
          "base_uri": "https://localhost:8080/"
        },
        "id": "b8kDG1ZOtN5C",
        "outputId": "c0911162-ec7a-4a5f-fe02-908c8dd43a14"
      },
      "execution_count": 41,
      "outputs": [
        {
          "output_type": "execute_result",
          "data": {
            "text/plain": [
              "{'score': 0.20257209241390228,\n",
              " 'start': 40,\n",
              " 'end': 119,\n",
              " 'answer': 'PTZ camera at weighbridge applicable for active surveillance of mining activity'}"
            ]
          },
          "metadata": {},
          "execution_count": 41
        }
      ]
    },
    {
      "cell_type": "markdown",
      "source": [
        "##Page-12"
      ],
      "metadata": {
        "id": "wvLTbe2jtejx"
      }
    },
    {
      "cell_type": "code",
      "source": [
        "text=\"InstalledCheckgates=21+.In Process & Proposed CHECKGATES=10+.Handheld Devices Equipped with m-CHECK in the entire districts of Uttar Pradesh=75+.Total MINETAG Equipped Vehicle=85,000+.Vehicle Inspected Through Checkgate=42,35,639,eNotices Generated against Anomalies found=27,737.Penalty amount generated through CHECKGATES=1,12,33,71,878.00 . Penalty amount received through CHECKGATES=44,98,05,976.00\""
      ],
      "metadata": {
        "id": "2kAJeaK-qQMv"
      },
      "execution_count": 46,
      "outputs": []
    },
    {
      "cell_type": "code",
      "source": [
        "nlp({\n",
        "    'question': 'Total Penalty amount generated through CHECKGATES',\n",
        "     'context': text    \n",
        "})"
      ],
      "metadata": {
        "colab": {
          "base_uri": "https://localhost:8080/"
        },
        "id": "w29jFyvotgnD",
        "outputId": "0f6e2bc0-9ac4-42d3-a15e-5f02a08900f3"
      },
      "execution_count": 47,
      "outputs": [
        {
          "output_type": "execute_result",
          "data": {
            "text/plain": [
              "{'score': 0.2917741537094116,\n",
              " 'start': 324,\n",
              " 'end': 341,\n",
              " 'answer': '1,12,33,71,878.00'}"
            ]
          },
          "metadata": {},
          "execution_count": 47
        }
      ]
    },
    {
      "cell_type": "markdown",
      "source": [
        "##Page-13"
      ],
      "metadata": {
        "id": "r4Omb3W7uL_A"
      }
    },
    {
      "cell_type": "code",
      "source": [
        "text=\"RFID Handheld Reader with m-CHECK App .This is a smart device equipped with features like data acquisition, processing & transmission with wireless communication and Ultra High Scanning (UHF Scanning). It is configured with Android 6.0 OS and possesses high reliability and expansibility. It has an inbuilt, unique android based mobile application for getting real-time Checkgate alerts & notifications along with the mapping of RFID Tags with the vehicle data.  Department officials can issue eNotice through m-Check App. 75+ Devices Equipped with m-CHECK in\""
      ],
      "metadata": {
        "id": "ewLIbyhjrjG9"
      },
      "execution_count": 50,
      "outputs": []
    },
    {
      "cell_type": "code",
      "source": [
        "nlp({\n",
        "    'question': 'use of RFID Handheld Reader with m-CHECK App',\n",
        "     'context': text    \n",
        "})"
      ],
      "metadata": {
        "colab": {
          "base_uri": "https://localhost:8080/"
        },
        "id": "rFrOx2vsuYVF",
        "outputId": "b2ebf155-5e41-474b-90ba-982f609214f2"
      },
      "execution_count": 52,
      "outputs": [
        {
          "output_type": "execute_result",
          "data": {
            "text/plain": [
              "{'score': 0.013779879547655582,\n",
              " 'start': 90,\n",
              " 'end': 185,\n",
              " 'answer': 'data acquisition, processing & transmission with wireless communication and Ultra High Scanning'}"
            ]
          },
          "metadata": {},
          "execution_count": 52
        }
      ]
    },
    {
      "cell_type": "markdown",
      "source": [
        "##Page-14"
      ],
      "metadata": {
        "id": "yUVSmHNruWB2"
      }
    },
    {
      "cell_type": "code",
      "source": [
        "text=\"Command Centre & Decision Support System(DSS) It is a reporting system for monitoring and enforcement. Real time live data of mining area as well as vehicles, CheckGates is monitored by technical personnel under the supervision of the department nodal officer. District wise enforcement statistics are summarized on dashboard is used for department review. DSS enable the District Administration to track activities from district level Mini Command Center based on video feeds, real time data captured from AI/IOT devices.\""
      ],
      "metadata": {
        "id": "d6SCxWjQrxxk"
      },
      "execution_count": 54,
      "outputs": []
    },
    {
      "cell_type": "code",
      "source": [
        "nlp({\n",
        "    'question': 'How to track activities',\n",
        "     'context': text    \n",
        "})"
      ],
      "metadata": {
        "colab": {
          "base_uri": "https://localhost:8080/"
        },
        "id": "OTDciLR7uqLg",
        "outputId": "e446e7ae-0095-4774-b57d-2492e4f770a1"
      },
      "execution_count": 55,
      "outputs": [
        {
          "output_type": "execute_result",
          "data": {
            "text/plain": [
              "{'score': 0.18788161873817444,\n",
              " 'start': 456,\n",
              " 'end': 521,\n",
              " 'answer': 'based on video feeds, real time data captured from AI/IOT devices'}"
            ]
          },
          "metadata": {},
          "execution_count": 55
        }
      ]
    },
    {
      "cell_type": "markdown",
      "source": [
        "##Page-15"
      ],
      "metadata": {
        "id": "-PJXklznu8JY"
      }
    },
    {
      "cell_type": "code",
      "source": [
        "text=\"Online E-Commerce Platform .Mineral Sale Points=1733,Registered Transporters=31206,1000+ m3 Mineral Sold Out.\""
      ],
      "metadata": {
        "id": "dplfzDrWr9Tm"
      },
      "execution_count": 56,
      "outputs": []
    },
    {
      "cell_type": "code",
      "source": [
        "nlp({\n",
        "    'question': 'Total Mineral Sale Points',\n",
        "     'context': text    \n",
        "})"
      ],
      "metadata": {
        "colab": {
          "base_uri": "https://localhost:8080/"
        },
        "id": "kwk_FJYlu_AR",
        "outputId": "9199f01c-aa8d-4223-8c20-151a68e79ea5"
      },
      "execution_count": 57,
      "outputs": [
        {
          "output_type": "execute_result",
          "data": {
            "text/plain": [
              "{'score': 0.4065672755241394, 'start': 48, 'end': 52, 'answer': '1733'}"
            ]
          },
          "metadata": {},
          "execution_count": 57
        }
      ]
    },
    {
      "cell_type": "markdown",
      "source": [
        "##Page-16"
      ],
      "metadata": {
        "id": "-ylZ4m2cvF3r"
      }
    },
    {
      "cell_type": "code",
      "source": [
        "text=\"CHALLENGES AND CONSTRAINTS ADDRESSED.The major hurdles we faced during the development and implementation of MINE MITRA are as mentioned below. Unorganized sector & scattered information. Arbitrary mining practices. Inertia of habit unwillingness in people to change and adapt to new technology. Multiple modules based on different technologies and disconnected from one-another. Absence of standardize system for monitoring mining activities in remote areas. Manual & tedious notice issuance process.\""
      ],
      "metadata": {
        "id": "7GpaiJeZsY3L"
      },
      "execution_count": 58,
      "outputs": []
    },
    {
      "cell_type": "code",
      "source": [
        "nlp({\n",
        "    'question': 'Major hurdeles faced by mine mithra',\n",
        "     'context': text    \n",
        "})"
      ],
      "metadata": {
        "colab": {
          "base_uri": "https://localhost:8080/"
        },
        "id": "eMjR7HqavJbp",
        "outputId": "9a5426ae-90e3-490d-d1df-3b52941ea15b"
      },
      "execution_count": 59,
      "outputs": [
        {
          "output_type": "execute_result",
          "data": {
            "text/plain": [
              "{'score': 0.1029229685664177,\n",
              " 'start': 144,\n",
              " 'end': 186,\n",
              " 'answer': 'Unorganized sector & scattered information'}"
            ]
          },
          "metadata": {},
          "execution_count": 59
        }
      ]
    },
    {
      "cell_type": "markdown",
      "source": [
        "##Page-17"
      ],
      "metadata": {
        "id": "PCIy9ttnvYju"
      }
    },
    {
      "cell_type": "code",
      "source": [
        "text=\"AWARENESS CAMPAIGN SMS Campaign,WhatsApp,Publicity literature,Press Releases,Social Media Campaign, Helpdesk No=1800 123 1171. Despite daunting odds, we conducted a detailed SWOT analysis and thereafter, organized a lot of workshops and hands-on training for MO for upscaling skills. Also, we ran social media campaigns to generate awareness among common people. After a lot of data mining and feedbacks, we came up with Initiatives like : On-site camps for MINETag Installation in the lease areas. A 24x7 helpdesk support was established for the citizens to facilitate Public Feedback & Grievances Redressal. Total complaints received till date are 11,500 & we have proudly resolved 92.06 % of queries.\""
      ],
      "metadata": {
        "id": "GoH6AQY5srYy"
      },
      "execution_count": 60,
      "outputs": []
    },
    {
      "cell_type": "code",
      "source": [
        "nlp({\n",
        "    'question': 'help desk number',\n",
        "     'context': text    \n",
        "})"
      ],
      "metadata": {
        "colab": {
          "base_uri": "https://localhost:8080/"
        },
        "id": "ryDmetJkvbPq",
        "outputId": "ad6b0b03-2935-4a2d-90a6-65c9162230ff"
      },
      "execution_count": 63,
      "outputs": [
        {
          "output_type": "execute_result",
          "data": {
            "text/plain": [
              "{'score': 0.8031256794929504,\n",
              " 'start': 112,\n",
              " 'end': 125,\n",
              " 'answer': '1800 123 1171'}"
            ]
          },
          "metadata": {},
          "execution_count": 63
        }
      ]
    },
    {
      "cell_type": "markdown",
      "source": [
        "##Page-18"
      ],
      "metadata": {
        "id": "vBW4_Zh8vrTE"
      }
    },
    {
      "cell_type": "code",
      "source": [
        "text=\"FUTURE STRATEGY In simple words, MINE MITRA has largely succeeded in providing a responsive, user- friendly and transparent platform to all stakeholders. A real time data monitoring via reports generation and transmission of alerts and notifications to the concerned authority. Mine-Mitra is also for putting a check on illegal mining practices. Henceforth, the DGM has plans for the expansion of the CheckGates network across all major mining routes in the state of Uttar Pradesh. Dovetailing MINE MITRA with NHAI FASTAG and GST. Interstate checkpoints are also in the pipeline. The DGM has also envisioned an automatic surveillance system with a mini command center established in all districts.\""
      ],
      "metadata": {
        "id": "CMqHAld3tCbA"
      },
      "execution_count": 134,
      "outputs": []
    },
    {
      "cell_type": "code",
      "source": [
        "nlp({\n",
        "    'question': 'mine mithra success',\n",
        "     'context': text    \n",
        "})"
      ],
      "metadata": {
        "id": "wPV0gO-7tLh4"
      },
      "execution_count": 133,
      "outputs": []
    },
    {
      "cell_type": "markdown",
      "source": [
        "## Automation"
      ],
      "metadata": {
        "id": "dq7q09_TbKgS"
      }
    },
    {
      "cell_type": "code",
      "source": [
        "text1=\"Vision & Mission The vision of MINE MITRA is to alter the mindset and approach of common people towards the mining sector and promote ease of doing business in the state of Uttar Pradesh, thus contributing towards sustainable economic growth and creating a benchmark. The mission of MINE MITRA is to ensure transparency, reliability and accuracy in mining processes and provide easy accessibility of minerals with equal benefit to all.\"\n",
        "text2=\"An innovative & ambitious initiative by the Directorate of Geology and Mining in the area of e -Governance .Attempt to integrate all mining processes into an end -to -end solution for mineral management . • An integrated IT Solution to curb illegal mining practices through real -time data surveillance and reports . • A common gateway or a unified platform for all citizen -centric mining services, marking a step forward to a cleaner and greener mining ecosystem .\"\n",
        "text3=\"The bottlenecks which triggered the Directorate to adopt new technologies and conceptualize MINE MITRA are:Price volatility Opaque user interface Long-winded and tedious manual processes resulting in delayed services due to red tape. Anomalies and malpractices – pilferage,overloading and unscientific & illegal mining.\"\n",
        "text4=\"KEY OBJECTIVES MINE MITRA came into existence after detailed discussions and brainstorming sessions with Director, UPDGM and other key stakeholders to achieve mentioned objectives.Create a user-friendly and responsive platform for e-services for the Common Man, Farmer, Lessee, Stockist and Transporter. Ensure transparency by onboarding all key stakeholders. enable price control and parity in the market by breaking nexus and monopolies by providing equal opportunity to upcoming entrepreneurs. Provide accessible and affordable minerals to the public. Implement ease of doing business & transactions in the mining sector. Encourage all stakeholders to adapt to the digital era and increase efficiency in functioning. Create a standardized legal regime, applicable uniformly to every Lessee & Transporter operating in the state. Generate greater revenue for the government through better mineral management Facilitate legal mining.\"\n",
        "text5=\"Online Mineral Management e-Services for Citizens/Farmer Integrated Mining Surveillance System e-Commerce Platform for Consumer, Supplier, and Transporter.MINE MITRA has been successfully implemented with an umbrella of components mentioned as follows: Online Mineral Management,e-Services for Citizens/Farmer,Integrated Mining Surveillance System,e-Commerce Platform for Consumer, Supplier, and Transporter.\"\n",
        "text6=\"ONLINE MINERAL MANAGEMENT EMM-11,Initiated On- AUG-2017 A transit pass for mineral transportation generated by the Lessee 2,31,37,7461 Transit Pass Issued. eFormC Initiated On- JUL-2020 A transit pass for mineral transportation generated by the Licensee 13,29,019 Transit Pass Issued. ISTP Initiated On- FEB-2020 An inter-state transit pass for vehicles ferrying minerals from other states 45,11,551 Transit Pass Issued 488 cr. Revenue Generated\"\n",
        "text7=\"Online Payment of Lease ,Initiated On- JUN-2020 To collect lease instalment.822 Leases which includes 260 of Sand/Morrum & 246 of Insitu Rocks (Granite). Online Brick Earth Kilns,Initiated On- JUN-2020 To collect payment for brick earth kilns.418  Brick Earth Kiln has been made Online.Online module for payment of online regulating fees for interstate mineral bearing vehicles.Initiated On- JUL-2020. API Integration with VAHAN (Portal of Ministry of Road & Transport Highways) to get authentic vehicle details. API Integration with the e-TP issuance services of other states like Madhya Pradesh & Haryana.\"\n",
        "text8=\"Online Citizen/Farmer e-Services.01- Online License,Stock License Initiated On- JUL-2020,For issuing license to the Stockist for storing more than 100 cubic meters of mineral. 1321  Applications Processed.02- Online Permit,Krishi Bhoomi Initiated On- JUL-2020 For disposal of mineral deposits on agricultural land.1452  Applications Processed.Niji Bhoomi Initiated On- JUL-2020,Permission for disposal of Sand/Morrum and insitu from a private land.472  Applications Processed.Ordinary Earth Initiated On- JUL-2020,For issuing permits for mining of ordinary earth at site.11809  Applications Processed.Building/Development Projects Initiated On- JUL-2020 In commercial projects for the disposal of minerals found as by product during excavation.1219  Applications Processed \"\n",
        "text9=\"03- Online Lease.Online LOI,Initiated On- JUL-2020 Upon completion of auction, the successful bidder (Proponent) can apply for online issuance of LOI subject to payment of security and royalty.1215 LOI Generated.Deed Execution,Initiated On- JUL-2020 Upon receive of environmental clearance, project proponent can apply online for deed execution for the stipulated period.117  Applications Processed.04- Online Registration.Mineral Retailer Registration,Initiated On- JUL-2020 Mineral retailer for sale up to 100 m3 have the facility of online self-registration so, promote small business to run without red tape.12610  Applications Processed.Registration for Mining of Ordinary Soil of Farmer’s Niji Bhoomi,Initiated On- JUL-2020 Self-registration facility for farmer for extraction & non-commercial use of ordinary earth.31415  Applications Processed.05 - Others.Approval of Mining Plan,Initiated On- JUL-2020 Mine-Mitra provides the facility of online processing of mining plan thereby avoiding the tedious process and save the time.1016 Mining Plan Approved.\"\n",
        "text10=\"Integrated Surveillance System Geo-Fencing Lease boundaries of all active leases with geo-coordinates plotted on map of Uttar Pradesh thereby displaying the virtual geographical perimeter in all state.518+ Lease Areas Geo-fenced\"\n",
        "text11=\"PTZ Camera & Weighbridge at Lessee Site PTZ camera at weighbridge applicable for active surveillance of mining activity. Its IR sensor with range upto 100 m. & work in minimum illumination & ultra-low light. A weighbridge is installed at all mining areas to track actual volume of minerals loaded on vehicles from mining area. 466+ Weighbridges Installed & Active.Minetag For Mineral Carrying Vehicles MINETag is a unique RFID Tag installed in the vehicles to identify the vehicle credential and inter alia validity of Transit Pass issued to that vehicles. 85,000+ MINETag issued to Mineral Carrying Vehicles.\"\n",
        "text12=\"InstalledCheckgates=21+.In Process & Proposed CHECKGATES=10+.Handheld Devices Equipped with m-CHECK in the entire districts of Uttar Pradesh=75+.Total MINETAG Equipped Vehicle=85,000+.Vehicle Inspected Through Checkgate=42,35,639,eNotices Generated against Anomalies found=27,737.Penalty amount generated through CHECKGATES=1,12,33,71,878.00 . Penalty amount received through CHECKGATES=44,98,05,976.00\"\n",
        "text13=\"RFID Handheld Reader with m-CHECK App .This is a smart device equipped with features like data acquisition, processing & transmission with wireless communication and Ultra High Scanning (UHF Scanning). It is configured with Android 6.0 OS and possesses high reliability and expansibility. It has an inbuilt, unique android based mobile application for getting real-time Checkgate alerts & notifications along with the mapping of RFID Tags with the vehicle data.  Department officials can issue eNotice through m-Check App. 75+ Devices Equipped with m-CHECK in\"\n",
        "text14=\"Command Centre & Decision Support System(DSS) It is a reporting system for monitoring and enforcement. Real time live data of mining area as well as vehicles, CheckGates is monitored by technical personnel under the supervision of the department nodal officer. District wise enforcement statistics are summarized on dashboard is used for department review. DSS enable the District Administration to track activities from district level Mini Command Center based on video feeds, real time data captured from AI/IOT devices.\"\n",
        "text15=\"Online E-Commerce Platform .Mineral Sale Points=1733,Registered Transporters=31206,1000+ m3 Mineral Sold Out.\"\n",
        "text16=\"CHALLENGES AND CONSTRAINTS ADDRESSED.The major hurdles we faced during the development and implementation of MINE MITRA are as mentioned below. Unorganized sector & scattered information. Arbitrary mining practices. Inertia of habit unwillingness in people to change and adapt to new technology. Multiple modules based on different technologies and disconnected from one-another. Absence of standardize system for monitoring mining activities in remote areas. Manual & tedious notice issuance process.\"\n",
        "text17=\"AWARENESS CAMPAIGN SMS Campaign,WhatsApp,Publicity literature,Press Releases,Social Media Campaign, Helpdesk No=1800 123 1171. Despite daunting odds, we conducted a detailed SWOT analysis and thereafter, organized a lot of workshops and hands-on training for MO for upscaling skills. Also, we ran social media campaigns to generate awareness among common people. After a lot of data mining and feedbacks, we came up with Initiatives like : On-site camps for MINETag Installation in the lease areas. A 24x7 helpdesk support was established for the citizens to facilitate Public Feedback & Grievances Redressal. Total complaints received till date are 11,500 & we have proudly resolved 92.06 % of queries.\"\n",
        "text18=\"FUTURE STRATEGY In simple words, MINE MITRA has largely succeeded in providing a responsive, user- friendly and transparent platform to all stakeholders. A real time data monitoring via reports generation and transmission of alerts and notifications to the concerned authority. Mine-Mitra is also for putting a check on illegal mining practices. Henceforth, the DGM has plans for the expansion of the CheckGates network across all major mining routes in the state of Uttar Pradesh. Dovetailing MINE MITRA with NHAI FASTAG and GST. Interstate checkpoints are also in the pipeline. The DGM has also envisioned an automatic surveillance system with a mini command center established in all districts.\""
      ],
      "metadata": {
        "id": "GpvRU1DYQNPu"
      },
      "execution_count": 147,
      "outputs": []
    },
    {
      "cell_type": "code",
      "source": [
        "import pandas as pd\n",
        "lst=[]\n",
        "df= pd.DataFrame(lst,columns=[\"context\",\"questions\",\"result\"]) "
      ],
      "metadata": {
        "id": "KGAtNa_NPrAb"
      },
      "execution_count": 148,
      "outputs": []
    },
    {
      "cell_type": "code",
      "source": [
        "context=[f\"text{i}\" for i in range(1,19)]"
      ],
      "metadata": {
        "id": "m26a49CnSkqf"
      },
      "execution_count": 149,
      "outputs": []
    },
    {
      "cell_type": "code",
      "source": [
        "print(\"select a context for testing....,\")\n",
        "print(\"\\n\")\n",
        "context= \"text18\" #@param ['text1','text2','text3','text4','text5','text6','text7','text8','text9','text10','text11','text12','text13','text14','text15','text16','text17','text18']"
      ],
      "metadata": {
        "colab": {
          "base_uri": "https://localhost:8080/"
        },
        "id": "DznGZT24RruO",
        "outputId": "40eeeb2d-797f-4bab-80e8-573ead55bf60"
      },
      "execution_count": 191,
      "outputs": [
        {
          "output_type": "stream",
          "name": "stdout",
          "text": [
            "select a context for testing....,\n",
            "\n",
            "\n"
          ]
        }
      ]
    },
    {
      "cell_type": "code",
      "source": [
        "def result(context:str,question:str)->pd.DataFrame:\n",
        "  global df\n",
        "  results=nlp({\n",
        "      'question': question,\n",
        "      'context': context    \n",
        "      })\n",
        "  row={\"context\":context,\n",
        "       \"questions\":question,\n",
        "       \"result\":[results[\"answer\"]]}\n",
        "  df1 = pd.DataFrame(row)\n",
        "  df = df.append(df1, ignore_index = True)\n",
        "  return df\n"
      ],
      "metadata": {
        "id": "EcpGiC8rRzwh"
      },
      "execution_count": 192,
      "outputs": []
    },
    {
      "cell_type": "code",
      "source": [
        "df=result(eval(context), 'mine mithra success')\n",
        "df"
      ],
      "metadata": {
        "colab": {
          "base_uri": "https://localhost:8080/",
          "height": 614
        },
        "id": "In9kiDLBUnF7",
        "outputId": "92cb6a5e-e92d-4339-aea9-73d404f9b83b"
      },
      "execution_count": 193,
      "outputs": [
        {
          "output_type": "execute_result",
          "data": {
            "text/plain": [
              "                                              context  \\\n",
              "0   Vision & Mission The vision of MINE MITRA is t...   \n",
              "1   An innovative & ambitious initiative by the Di...   \n",
              "2   The bottlenecks which triggered the Directorat...   \n",
              "3   KEY OBJECTIVES MINE MITRA came into existence ...   \n",
              "4   Online Mineral Management e-Services for Citiz...   \n",
              "5   ONLINE MINERAL MANAGEMENT EMM-11,Initiated On-...   \n",
              "6   Online Payment of Lease ,Initiated On- JUN-202...   \n",
              "7   Online Citizen/Farmer e-Services.01- Online Li...   \n",
              "8   03- Online Lease.Online LOI,Initiated On- JUL-...   \n",
              "9   Integrated Surveillance System Geo-Fencing Lea...   \n",
              "10  PTZ Camera & Weighbridge at Lessee Site PTZ ca...   \n",
              "11  InstalledCheckgates=21+.In Process & Proposed ...   \n",
              "12  RFID Handheld Reader with m-CHECK App .This is...   \n",
              "13  Command Centre & Decision Support System(DSS) ...   \n",
              "14  Online E-Commerce Platform .Mineral Sale Point...   \n",
              "15  CHALLENGES AND CONSTRAINTS ADDRESSED.The major...   \n",
              "16  AWARENESS CAMPAIGN SMS Campaign,WhatsApp,Publi...   \n",
              "17  FUTURE STRATEGY In simple words, MINE MITRA ha...   \n",
              "\n",
              "                                            questions  \\\n",
              "0                                   MINE MITRA vision   \n",
              "1                        MINE MITRA mineral managment   \n",
              "2                               MINEMITRA bottlenecks   \n",
              "3                           MINE MITRA key objectives   \n",
              "4                               MINE MITRA COMPONENTS   \n",
              "5                            EMM-11 was Initiated on    \n",
              "6                                  822 lease includes   \n",
              "7       Krishi Bhoomi number of Application Processed   \n",
              "8                       Total Approval of Mining Plan   \n",
              "9                        Total Lease Areas Geo-fenced   \n",
              "10                                  use of PTZ camera   \n",
              "11  Total Penalty amount generated through CHECKGATES   \n",
              "12       use of RFID Handheld Reader with m-CHECK App   \n",
              "13                            How to track activities   \n",
              "14                          Total Mineral Sale Points   \n",
              "15                Major hurdeles faced by mine mithra   \n",
              "16                                   help desk number   \n",
              "17                                mine mithra success   \n",
              "\n",
              "                                               result  \n",
              "0   promote ease of doing business in the state of...  \n",
              "1   integrate all mining processes into an end -to...  \n",
              "2              Price volatility Opaque user interface  \n",
              "3   Create a user-friendly and responsive platform...  \n",
              "4                           Online Mineral Management  \n",
              "5                                            AUG-2017  \n",
              "6            260 of Sand/Morrum & 246 of Insitu Rocks  \n",
              "7                                                1452  \n",
              "8                           1016 Mining Plan Approved  \n",
              "9                                                 518  \n",
              "10  PTZ camera at weighbridge applicable for activ...  \n",
              "11                                  1,12,33,71,878.00  \n",
              "12  data acquisition, processing & transmission wi...  \n",
              "13  based on video feeds, real time data captured ...  \n",
              "14                                               1733  \n",
              "15         Unorganized sector & scattered information  \n",
              "16                                      1800 123 1171  \n",
              "17  providing a responsive, user- friendly and tra...  "
            ],
            "text/html": [
              "\n",
              "  <div id=\"df-817fd222-0d9f-406d-80dc-efb5a3b5c9db\">\n",
              "    <div class=\"colab-df-container\">\n",
              "      <div>\n",
              "<style scoped>\n",
              "    .dataframe tbody tr th:only-of-type {\n",
              "        vertical-align: middle;\n",
              "    }\n",
              "\n",
              "    .dataframe tbody tr th {\n",
              "        vertical-align: top;\n",
              "    }\n",
              "\n",
              "    .dataframe thead th {\n",
              "        text-align: right;\n",
              "    }\n",
              "</style>\n",
              "<table border=\"1\" class=\"dataframe\">\n",
              "  <thead>\n",
              "    <tr style=\"text-align: right;\">\n",
              "      <th></th>\n",
              "      <th>context</th>\n",
              "      <th>questions</th>\n",
              "      <th>result</th>\n",
              "    </tr>\n",
              "  </thead>\n",
              "  <tbody>\n",
              "    <tr>\n",
              "      <th>0</th>\n",
              "      <td>Vision &amp; Mission The vision of MINE MITRA is t...</td>\n",
              "      <td>MINE MITRA vision</td>\n",
              "      <td>promote ease of doing business in the state of...</td>\n",
              "    </tr>\n",
              "    <tr>\n",
              "      <th>1</th>\n",
              "      <td>An innovative &amp; ambitious initiative by the Di...</td>\n",
              "      <td>MINE MITRA mineral managment</td>\n",
              "      <td>integrate all mining processes into an end -to...</td>\n",
              "    </tr>\n",
              "    <tr>\n",
              "      <th>2</th>\n",
              "      <td>The bottlenecks which triggered the Directorat...</td>\n",
              "      <td>MINEMITRA bottlenecks</td>\n",
              "      <td>Price volatility Opaque user interface</td>\n",
              "    </tr>\n",
              "    <tr>\n",
              "      <th>3</th>\n",
              "      <td>KEY OBJECTIVES MINE MITRA came into existence ...</td>\n",
              "      <td>MINE MITRA key objectives</td>\n",
              "      <td>Create a user-friendly and responsive platform...</td>\n",
              "    </tr>\n",
              "    <tr>\n",
              "      <th>4</th>\n",
              "      <td>Online Mineral Management e-Services for Citiz...</td>\n",
              "      <td>MINE MITRA COMPONENTS</td>\n",
              "      <td>Online Mineral Management</td>\n",
              "    </tr>\n",
              "    <tr>\n",
              "      <th>5</th>\n",
              "      <td>ONLINE MINERAL MANAGEMENT EMM-11,Initiated On-...</td>\n",
              "      <td>EMM-11 was Initiated on</td>\n",
              "      <td>AUG-2017</td>\n",
              "    </tr>\n",
              "    <tr>\n",
              "      <th>6</th>\n",
              "      <td>Online Payment of Lease ,Initiated On- JUN-202...</td>\n",
              "      <td>822 lease includes</td>\n",
              "      <td>260 of Sand/Morrum &amp; 246 of Insitu Rocks</td>\n",
              "    </tr>\n",
              "    <tr>\n",
              "      <th>7</th>\n",
              "      <td>Online Citizen/Farmer e-Services.01- Online Li...</td>\n",
              "      <td>Krishi Bhoomi number of Application Processed</td>\n",
              "      <td>1452</td>\n",
              "    </tr>\n",
              "    <tr>\n",
              "      <th>8</th>\n",
              "      <td>03- Online Lease.Online LOI,Initiated On- JUL-...</td>\n",
              "      <td>Total Approval of Mining Plan</td>\n",
              "      <td>1016 Mining Plan Approved</td>\n",
              "    </tr>\n",
              "    <tr>\n",
              "      <th>9</th>\n",
              "      <td>Integrated Surveillance System Geo-Fencing Lea...</td>\n",
              "      <td>Total Lease Areas Geo-fenced</td>\n",
              "      <td>518</td>\n",
              "    </tr>\n",
              "    <tr>\n",
              "      <th>10</th>\n",
              "      <td>PTZ Camera &amp; Weighbridge at Lessee Site PTZ ca...</td>\n",
              "      <td>use of PTZ camera</td>\n",
              "      <td>PTZ camera at weighbridge applicable for activ...</td>\n",
              "    </tr>\n",
              "    <tr>\n",
              "      <th>11</th>\n",
              "      <td>InstalledCheckgates=21+.In Process &amp; Proposed ...</td>\n",
              "      <td>Total Penalty amount generated through CHECKGATES</td>\n",
              "      <td>1,12,33,71,878.00</td>\n",
              "    </tr>\n",
              "    <tr>\n",
              "      <th>12</th>\n",
              "      <td>RFID Handheld Reader with m-CHECK App .This is...</td>\n",
              "      <td>use of RFID Handheld Reader with m-CHECK App</td>\n",
              "      <td>data acquisition, processing &amp; transmission wi...</td>\n",
              "    </tr>\n",
              "    <tr>\n",
              "      <th>13</th>\n",
              "      <td>Command Centre &amp; Decision Support System(DSS) ...</td>\n",
              "      <td>How to track activities</td>\n",
              "      <td>based on video feeds, real time data captured ...</td>\n",
              "    </tr>\n",
              "    <tr>\n",
              "      <th>14</th>\n",
              "      <td>Online E-Commerce Platform .Mineral Sale Point...</td>\n",
              "      <td>Total Mineral Sale Points</td>\n",
              "      <td>1733</td>\n",
              "    </tr>\n",
              "    <tr>\n",
              "      <th>15</th>\n",
              "      <td>CHALLENGES AND CONSTRAINTS ADDRESSED.The major...</td>\n",
              "      <td>Major hurdeles faced by mine mithra</td>\n",
              "      <td>Unorganized sector &amp; scattered information</td>\n",
              "    </tr>\n",
              "    <tr>\n",
              "      <th>16</th>\n",
              "      <td>AWARENESS CAMPAIGN SMS Campaign,WhatsApp,Publi...</td>\n",
              "      <td>help desk number</td>\n",
              "      <td>1800 123 1171</td>\n",
              "    </tr>\n",
              "    <tr>\n",
              "      <th>17</th>\n",
              "      <td>FUTURE STRATEGY In simple words, MINE MITRA ha...</td>\n",
              "      <td>mine mithra success</td>\n",
              "      <td>providing a responsive, user- friendly and tra...</td>\n",
              "    </tr>\n",
              "  </tbody>\n",
              "</table>\n",
              "</div>\n",
              "      <button class=\"colab-df-convert\" onclick=\"convertToInteractive('df-817fd222-0d9f-406d-80dc-efb5a3b5c9db')\"\n",
              "              title=\"Convert this dataframe to an interactive table.\"\n",
              "              style=\"display:none;\">\n",
              "        \n",
              "  <svg xmlns=\"http://www.w3.org/2000/svg\" height=\"24px\"viewBox=\"0 0 24 24\"\n",
              "       width=\"24px\">\n",
              "    <path d=\"M0 0h24v24H0V0z\" fill=\"none\"/>\n",
              "    <path d=\"M18.56 5.44l.94 2.06.94-2.06 2.06-.94-2.06-.94-.94-2.06-.94 2.06-2.06.94zm-11 1L8.5 8.5l.94-2.06 2.06-.94-2.06-.94L8.5 2.5l-.94 2.06-2.06.94zm10 10l.94 2.06.94-2.06 2.06-.94-2.06-.94-.94-2.06-.94 2.06-2.06.94z\"/><path d=\"M17.41 7.96l-1.37-1.37c-.4-.4-.92-.59-1.43-.59-.52 0-1.04.2-1.43.59L10.3 9.45l-7.72 7.72c-.78.78-.78 2.05 0 2.83L4 21.41c.39.39.9.59 1.41.59.51 0 1.02-.2 1.41-.59l7.78-7.78 2.81-2.81c.8-.78.8-2.07 0-2.86zM5.41 20L4 18.59l7.72-7.72 1.47 1.35L5.41 20z\"/>\n",
              "  </svg>\n",
              "      </button>\n",
              "      \n",
              "  <style>\n",
              "    .colab-df-container {\n",
              "      display:flex;\n",
              "      flex-wrap:wrap;\n",
              "      gap: 12px;\n",
              "    }\n",
              "\n",
              "    .colab-df-convert {\n",
              "      background-color: #E8F0FE;\n",
              "      border: none;\n",
              "      border-radius: 50%;\n",
              "      cursor: pointer;\n",
              "      display: none;\n",
              "      fill: #1967D2;\n",
              "      height: 32px;\n",
              "      padding: 0 0 0 0;\n",
              "      width: 32px;\n",
              "    }\n",
              "\n",
              "    .colab-df-convert:hover {\n",
              "      background-color: #E2EBFA;\n",
              "      box-shadow: 0px 1px 2px rgba(60, 64, 67, 0.3), 0px 1px 3px 1px rgba(60, 64, 67, 0.15);\n",
              "      fill: #174EA6;\n",
              "    }\n",
              "\n",
              "    [theme=dark] .colab-df-convert {\n",
              "      background-color: #3B4455;\n",
              "      fill: #D2E3FC;\n",
              "    }\n",
              "\n",
              "    [theme=dark] .colab-df-convert:hover {\n",
              "      background-color: #434B5C;\n",
              "      box-shadow: 0px 1px 3px 1px rgba(0, 0, 0, 0.15);\n",
              "      filter: drop-shadow(0px 1px 2px rgba(0, 0, 0, 0.3));\n",
              "      fill: #FFFFFF;\n",
              "    }\n",
              "  </style>\n",
              "\n",
              "      <script>\n",
              "        const buttonEl =\n",
              "          document.querySelector('#df-817fd222-0d9f-406d-80dc-efb5a3b5c9db button.colab-df-convert');\n",
              "        buttonEl.style.display =\n",
              "          google.colab.kernel.accessAllowed ? 'block' : 'none';\n",
              "\n",
              "        async function convertToInteractive(key) {\n",
              "          const element = document.querySelector('#df-817fd222-0d9f-406d-80dc-efb5a3b5c9db');\n",
              "          const dataTable =\n",
              "            await google.colab.kernel.invokeFunction('convertToInteractive',\n",
              "                                                     [key], {});\n",
              "          if (!dataTable) return;\n",
              "\n",
              "          const docLinkHtml = 'Like what you see? Visit the ' +\n",
              "            '<a target=\"_blank\" href=https://colab.research.google.com/notebooks/data_table.ipynb>data table notebook</a>'\n",
              "            + ' to learn more about interactive tables.';\n",
              "          element.innerHTML = '';\n",
              "          dataTable['output_type'] = 'display_data';\n",
              "          await google.colab.output.renderOutput(dataTable, element);\n",
              "          const docLink = document.createElement('div');\n",
              "          docLink.innerHTML = docLinkHtml;\n",
              "          element.appendChild(docLink);\n",
              "        }\n",
              "      </script>\n",
              "    </div>\n",
              "  </div>\n",
              "  "
            ]
          },
          "metadata": {},
          "execution_count": 193
        }
      ]
    },
    {
      "cell_type": "code",
      "source": [
        "df.to_csv('benchmark.csv', index=False)"
      ],
      "metadata": {
        "id": "gemgRW8BYWQR"
      },
      "execution_count": 194,
      "outputs": []
    },
    {
      "cell_type": "code",
      "source": [],
      "metadata": {
        "id": "5fUajEbea5yg"
      },
      "execution_count": null,
      "outputs": []
    }
  ]
}